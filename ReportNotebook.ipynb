{
 "cells": [
  {
   "cell_type": "markdown",
   "metadata": {},
   "source": [
    "# Movie Analysis for Microsoft Studios"
   ]
  },
  {
   "cell_type": "markdown",
   "metadata": {},
   "source": [
    "## Business Problem: "
   ]
  },
  {
   "cell_type": "markdown",
   "metadata": {},
   "source": [
    "The purpose of this analysis is to find trends in movie data that will allow Microsoft to decide what kind of movies to make at their new Microsoft studio. Since Microsoft is just getting into the movie business, they need actionable insights to decide what kind of films to create.  \n",
    "\n",
    "As a business, Microsoft's goal is to make money. With so many attributes to a successful movie, Microsoft needs to know what kind of movie to make and how to make it, in order to earn a net profit.\n",
    "\n",
    "This data will explore that question from three angles: runtime, time of year the movie is released and production budget, as these factors relate to the net profit the movie made.  "
   ]
  },
  {
   "cell_type": "markdown",
   "metadata": {},
   "source": [
    "## Why use net profit? "
   ]
  },
  {
   "cell_type": "markdown",
   "metadata": {},
   "source": [
    "Movies are generally evaluated as sucessful based on their box office numbers, however, this does not give us the full picture. A huge percent of the money made by movies is from streaming platforms, as well a ancillary revenue from things like overseas movie rights, fast food partnerships, toys, video games, clothing and amusement park rides. \n",
    "\n",
    "Further, just looking at gross revenue isn't accurate either, as this doesn't account for the cost to make and advertise the movie. Just because a movie has a gross revenue of 10M, doesn't mean that they made anywhere close to $10M after the production budget, cost of advertising, cuts that go to the theaters, etc. which in some cases could be just as high. \n",
    "\n",
    "Sources: \n",
    "\n",
    "https://phys.org/news/2017-11-explores-movie-successful.html\n",
    "\n",
    "https://www.nytimes.com/2012/07/01/magazine/how-does-the-film-industry-actually-make-money.html"
   ]
  },
  {
   "cell_type": "markdown",
   "metadata": {},
   "source": [
    "## Data Understanding:"
   ]
  },
  {
   "cell_type": "markdown",
   "metadata": {},
   "source": [
    "The data used for this analysis came from two sources: The Movie Database (TMDB) and The Numbers (TN). \n",
    "\n",
    "The TMDB data was used to analyze runtime, with a total of 5,782 data points used after cleaning the data. \n",
    "This data was collected from a dataset on kaggle: https://www.kaggle.com/datasets/tmdb/tmdb-movie-metadata\n",
    "\n",
    "The TN data was used to analyze the movie's premiere month and production budget, with a total of 3,229 data points. This data was collected from a dataset provided by the Flatiron School. \n",
    "\n",
    "Both TMDB and TN are reliable data sources that provide movie insight based on a variety of factors. "
   ]
  },
  {
   "cell_type": "code",
   "execution_count": 1,
   "metadata": {},
   "outputs": [],
   "source": [
    "# Import standard packages\n",
    "import pandas as pd\n",
    "import numpy as np\n",
    "import matplotlib.pyplot as plt\n",
    "import seaborn as sns\n",
    "\n",
    "%matplotlib inline"
   ]
  },
  {
   "cell_type": "markdown",
   "metadata": {},
   "source": [
    "## Runtime vs. Net Profit (TMDB)"
   ]
  },
  {
   "cell_type": "markdown",
   "metadata": {},
   "source": [
    "### Data Preparation:"
   ]
  },
  {
   "cell_type": "code",
   "execution_count": 2,
   "metadata": {},
   "outputs": [],
   "source": [
    "#import the data\n",
    "tmdb = pd.read_csv('zippedData/tmdb_5000_movies.csv')"
   ]
  },
  {
   "cell_type": "code",
   "execution_count": 3,
   "metadata": {
    "scrolled": true
   },
   "outputs": [
    {
     "data": {
      "text/html": [
       "<div>\n",
       "<style scoped>\n",
       "    .dataframe tbody tr th:only-of-type {\n",
       "        vertical-align: middle;\n",
       "    }\n",
       "\n",
       "    .dataframe tbody tr th {\n",
       "        vertical-align: top;\n",
       "    }\n",
       "\n",
       "    .dataframe thead th {\n",
       "        text-align: right;\n",
       "    }\n",
       "</style>\n",
       "<table border=\"1\" class=\"dataframe\">\n",
       "  <thead>\n",
       "    <tr style=\"text-align: right;\">\n",
       "      <th></th>\n",
       "      <th>budget</th>\n",
       "      <th>genres</th>\n",
       "      <th>homepage</th>\n",
       "      <th>id</th>\n",
       "      <th>keywords</th>\n",
       "      <th>original_language</th>\n",
       "      <th>original_title</th>\n",
       "      <th>overview</th>\n",
       "      <th>popularity</th>\n",
       "      <th>production_companies</th>\n",
       "      <th>production_countries</th>\n",
       "      <th>release_date</th>\n",
       "      <th>revenue</th>\n",
       "      <th>runtime</th>\n",
       "      <th>spoken_languages</th>\n",
       "      <th>status</th>\n",
       "      <th>tagline</th>\n",
       "      <th>title</th>\n",
       "      <th>vote_average</th>\n",
       "      <th>vote_count</th>\n",
       "    </tr>\n",
       "  </thead>\n",
       "  <tbody>\n",
       "    <tr>\n",
       "      <th>0</th>\n",
       "      <td>237000000</td>\n",
       "      <td>[{\"id\": 28, \"name\": \"Action\"}, {\"id\": 12, \"nam...</td>\n",
       "      <td>http://www.avatarmovie.com/</td>\n",
       "      <td>19995</td>\n",
       "      <td>[{\"id\": 1463, \"name\": \"culture clash\"}, {\"id\":...</td>\n",
       "      <td>en</td>\n",
       "      <td>Avatar</td>\n",
       "      <td>In the 22nd century, a paraplegic Marine is di...</td>\n",
       "      <td>150.437577</td>\n",
       "      <td>[{\"name\": \"Ingenious Film Partners\", \"id\": 289...</td>\n",
       "      <td>[{\"iso_3166_1\": \"US\", \"name\": \"United States o...</td>\n",
       "      <td>2009-12-10</td>\n",
       "      <td>2787965087</td>\n",
       "      <td>162.0</td>\n",
       "      <td>[{\"iso_639_1\": \"en\", \"name\": \"English\"}, {\"iso...</td>\n",
       "      <td>Released</td>\n",
       "      <td>Enter the World of Pandora.</td>\n",
       "      <td>Avatar</td>\n",
       "      <td>7.2</td>\n",
       "      <td>11800</td>\n",
       "    </tr>\n",
       "    <tr>\n",
       "      <th>1</th>\n",
       "      <td>300000000</td>\n",
       "      <td>[{\"id\": 12, \"name\": \"Adventure\"}, {\"id\": 14, \"...</td>\n",
       "      <td>http://disney.go.com/disneypictures/pirates/</td>\n",
       "      <td>285</td>\n",
       "      <td>[{\"id\": 270, \"name\": \"ocean\"}, {\"id\": 726, \"na...</td>\n",
       "      <td>en</td>\n",
       "      <td>Pirates of the Caribbean: At World's End</td>\n",
       "      <td>Captain Barbossa, long believed to be dead, ha...</td>\n",
       "      <td>139.082615</td>\n",
       "      <td>[{\"name\": \"Walt Disney Pictures\", \"id\": 2}, {\"...</td>\n",
       "      <td>[{\"iso_3166_1\": \"US\", \"name\": \"United States o...</td>\n",
       "      <td>2007-05-19</td>\n",
       "      <td>961000000</td>\n",
       "      <td>169.0</td>\n",
       "      <td>[{\"iso_639_1\": \"en\", \"name\": \"English\"}]</td>\n",
       "      <td>Released</td>\n",
       "      <td>At the end of the world, the adventure begins.</td>\n",
       "      <td>Pirates of the Caribbean: At World's End</td>\n",
       "      <td>6.9</td>\n",
       "      <td>4500</td>\n",
       "    </tr>\n",
       "    <tr>\n",
       "      <th>2</th>\n",
       "      <td>245000000</td>\n",
       "      <td>[{\"id\": 28, \"name\": \"Action\"}, {\"id\": 12, \"nam...</td>\n",
       "      <td>http://www.sonypictures.com/movies/spectre/</td>\n",
       "      <td>206647</td>\n",
       "      <td>[{\"id\": 470, \"name\": \"spy\"}, {\"id\": 818, \"name...</td>\n",
       "      <td>en</td>\n",
       "      <td>Spectre</td>\n",
       "      <td>A cryptic message from Bond’s past sends him o...</td>\n",
       "      <td>107.376788</td>\n",
       "      <td>[{\"name\": \"Columbia Pictures\", \"id\": 5}, {\"nam...</td>\n",
       "      <td>[{\"iso_3166_1\": \"GB\", \"name\": \"United Kingdom\"...</td>\n",
       "      <td>2015-10-26</td>\n",
       "      <td>880674609</td>\n",
       "      <td>148.0</td>\n",
       "      <td>[{\"iso_639_1\": \"fr\", \"name\": \"Fran\\u00e7ais\"},...</td>\n",
       "      <td>Released</td>\n",
       "      <td>A Plan No One Escapes</td>\n",
       "      <td>Spectre</td>\n",
       "      <td>6.3</td>\n",
       "      <td>4466</td>\n",
       "    </tr>\n",
       "    <tr>\n",
       "      <th>3</th>\n",
       "      <td>250000000</td>\n",
       "      <td>[{\"id\": 28, \"name\": \"Action\"}, {\"id\": 80, \"nam...</td>\n",
       "      <td>http://www.thedarkknightrises.com/</td>\n",
       "      <td>49026</td>\n",
       "      <td>[{\"id\": 849, \"name\": \"dc comics\"}, {\"id\": 853,...</td>\n",
       "      <td>en</td>\n",
       "      <td>The Dark Knight Rises</td>\n",
       "      <td>Following the death of District Attorney Harve...</td>\n",
       "      <td>112.312950</td>\n",
       "      <td>[{\"name\": \"Legendary Pictures\", \"id\": 923}, {\"...</td>\n",
       "      <td>[{\"iso_3166_1\": \"US\", \"name\": \"United States o...</td>\n",
       "      <td>2012-07-16</td>\n",
       "      <td>1084939099</td>\n",
       "      <td>165.0</td>\n",
       "      <td>[{\"iso_639_1\": \"en\", \"name\": \"English\"}]</td>\n",
       "      <td>Released</td>\n",
       "      <td>The Legend Ends</td>\n",
       "      <td>The Dark Knight Rises</td>\n",
       "      <td>7.6</td>\n",
       "      <td>9106</td>\n",
       "    </tr>\n",
       "    <tr>\n",
       "      <th>4</th>\n",
       "      <td>260000000</td>\n",
       "      <td>[{\"id\": 28, \"name\": \"Action\"}, {\"id\": 12, \"nam...</td>\n",
       "      <td>http://movies.disney.com/john-carter</td>\n",
       "      <td>49529</td>\n",
       "      <td>[{\"id\": 818, \"name\": \"based on novel\"}, {\"id\":...</td>\n",
       "      <td>en</td>\n",
       "      <td>John Carter</td>\n",
       "      <td>John Carter is a war-weary, former military ca...</td>\n",
       "      <td>43.926995</td>\n",
       "      <td>[{\"name\": \"Walt Disney Pictures\", \"id\": 2}]</td>\n",
       "      <td>[{\"iso_3166_1\": \"US\", \"name\": \"United States o...</td>\n",
       "      <td>2012-03-07</td>\n",
       "      <td>284139100</td>\n",
       "      <td>132.0</td>\n",
       "      <td>[{\"iso_639_1\": \"en\", \"name\": \"English\"}]</td>\n",
       "      <td>Released</td>\n",
       "      <td>Lost in our world, found in another.</td>\n",
       "      <td>John Carter</td>\n",
       "      <td>6.1</td>\n",
       "      <td>2124</td>\n",
       "    </tr>\n",
       "  </tbody>\n",
       "</table>\n",
       "</div>"
      ],
      "text/plain": [
       "      budget                                             genres  \\\n",
       "0  237000000  [{\"id\": 28, \"name\": \"Action\"}, {\"id\": 12, \"nam...   \n",
       "1  300000000  [{\"id\": 12, \"name\": \"Adventure\"}, {\"id\": 14, \"...   \n",
       "2  245000000  [{\"id\": 28, \"name\": \"Action\"}, {\"id\": 12, \"nam...   \n",
       "3  250000000  [{\"id\": 28, \"name\": \"Action\"}, {\"id\": 80, \"nam...   \n",
       "4  260000000  [{\"id\": 28, \"name\": \"Action\"}, {\"id\": 12, \"nam...   \n",
       "\n",
       "                                       homepage      id  \\\n",
       "0                   http://www.avatarmovie.com/   19995   \n",
       "1  http://disney.go.com/disneypictures/pirates/     285   \n",
       "2   http://www.sonypictures.com/movies/spectre/  206647   \n",
       "3            http://www.thedarkknightrises.com/   49026   \n",
       "4          http://movies.disney.com/john-carter   49529   \n",
       "\n",
       "                                            keywords original_language  \\\n",
       "0  [{\"id\": 1463, \"name\": \"culture clash\"}, {\"id\":...                en   \n",
       "1  [{\"id\": 270, \"name\": \"ocean\"}, {\"id\": 726, \"na...                en   \n",
       "2  [{\"id\": 470, \"name\": \"spy\"}, {\"id\": 818, \"name...                en   \n",
       "3  [{\"id\": 849, \"name\": \"dc comics\"}, {\"id\": 853,...                en   \n",
       "4  [{\"id\": 818, \"name\": \"based on novel\"}, {\"id\":...                en   \n",
       "\n",
       "                             original_title  \\\n",
       "0                                    Avatar   \n",
       "1  Pirates of the Caribbean: At World's End   \n",
       "2                                   Spectre   \n",
       "3                     The Dark Knight Rises   \n",
       "4                               John Carter   \n",
       "\n",
       "                                            overview  popularity  \\\n",
       "0  In the 22nd century, a paraplegic Marine is di...  150.437577   \n",
       "1  Captain Barbossa, long believed to be dead, ha...  139.082615   \n",
       "2  A cryptic message from Bond’s past sends him o...  107.376788   \n",
       "3  Following the death of District Attorney Harve...  112.312950   \n",
       "4  John Carter is a war-weary, former military ca...   43.926995   \n",
       "\n",
       "                                production_companies  \\\n",
       "0  [{\"name\": \"Ingenious Film Partners\", \"id\": 289...   \n",
       "1  [{\"name\": \"Walt Disney Pictures\", \"id\": 2}, {\"...   \n",
       "2  [{\"name\": \"Columbia Pictures\", \"id\": 5}, {\"nam...   \n",
       "3  [{\"name\": \"Legendary Pictures\", \"id\": 923}, {\"...   \n",
       "4        [{\"name\": \"Walt Disney Pictures\", \"id\": 2}]   \n",
       "\n",
       "                                production_countries release_date     revenue  \\\n",
       "0  [{\"iso_3166_1\": \"US\", \"name\": \"United States o...   2009-12-10  2787965087   \n",
       "1  [{\"iso_3166_1\": \"US\", \"name\": \"United States o...   2007-05-19   961000000   \n",
       "2  [{\"iso_3166_1\": \"GB\", \"name\": \"United Kingdom\"...   2015-10-26   880674609   \n",
       "3  [{\"iso_3166_1\": \"US\", \"name\": \"United States o...   2012-07-16  1084939099   \n",
       "4  [{\"iso_3166_1\": \"US\", \"name\": \"United States o...   2012-03-07   284139100   \n",
       "\n",
       "   runtime                                   spoken_languages    status  \\\n",
       "0    162.0  [{\"iso_639_1\": \"en\", \"name\": \"English\"}, {\"iso...  Released   \n",
       "1    169.0           [{\"iso_639_1\": \"en\", \"name\": \"English\"}]  Released   \n",
       "2    148.0  [{\"iso_639_1\": \"fr\", \"name\": \"Fran\\u00e7ais\"},...  Released   \n",
       "3    165.0           [{\"iso_639_1\": \"en\", \"name\": \"English\"}]  Released   \n",
       "4    132.0           [{\"iso_639_1\": \"en\", \"name\": \"English\"}]  Released   \n",
       "\n",
       "                                          tagline  \\\n",
       "0                     Enter the World of Pandora.   \n",
       "1  At the end of the world, the adventure begins.   \n",
       "2                           A Plan No One Escapes   \n",
       "3                                 The Legend Ends   \n",
       "4            Lost in our world, found in another.   \n",
       "\n",
       "                                      title  vote_average  vote_count  \n",
       "0                                    Avatar           7.2       11800  \n",
       "1  Pirates of the Caribbean: At World's End           6.9        4500  \n",
       "2                                   Spectre           6.3        4466  \n",
       "3                     The Dark Knight Rises           7.6        9106  \n",
       "4                               John Carter           6.1        2124  "
      ]
     },
     "execution_count": 3,
     "metadata": {},
     "output_type": "execute_result"
    }
   ],
   "source": [
    "#look at the data\n",
    "tmdb.head()"
   ]
  },
  {
   "cell_type": "code",
   "execution_count": 4,
   "metadata": {},
   "outputs": [
    {
     "data": {
      "text/html": [
       "<div>\n",
       "<style scoped>\n",
       "    .dataframe tbody tr th:only-of-type {\n",
       "        vertical-align: middle;\n",
       "    }\n",
       "\n",
       "    .dataframe tbody tr th {\n",
       "        vertical-align: top;\n",
       "    }\n",
       "\n",
       "    .dataframe thead th {\n",
       "        text-align: right;\n",
       "    }\n",
       "</style>\n",
       "<table border=\"1\" class=\"dataframe\">\n",
       "  <thead>\n",
       "    <tr style=\"text-align: right;\">\n",
       "      <th></th>\n",
       "      <th>budget</th>\n",
       "      <th>revenue</th>\n",
       "      <th>runtime</th>\n",
       "    </tr>\n",
       "  </thead>\n",
       "  <tbody>\n",
       "    <tr>\n",
       "      <th>0</th>\n",
       "      <td>237000000</td>\n",
       "      <td>2787965087</td>\n",
       "      <td>162.0</td>\n",
       "    </tr>\n",
       "    <tr>\n",
       "      <th>1</th>\n",
       "      <td>300000000</td>\n",
       "      <td>961000000</td>\n",
       "      <td>169.0</td>\n",
       "    </tr>\n",
       "    <tr>\n",
       "      <th>2</th>\n",
       "      <td>245000000</td>\n",
       "      <td>880674609</td>\n",
       "      <td>148.0</td>\n",
       "    </tr>\n",
       "    <tr>\n",
       "      <th>3</th>\n",
       "      <td>250000000</td>\n",
       "      <td>1084939099</td>\n",
       "      <td>165.0</td>\n",
       "    </tr>\n",
       "    <tr>\n",
       "      <th>4</th>\n",
       "      <td>260000000</td>\n",
       "      <td>284139100</td>\n",
       "      <td>132.0</td>\n",
       "    </tr>\n",
       "    <tr>\n",
       "      <th>...</th>\n",
       "      <td>...</td>\n",
       "      <td>...</td>\n",
       "      <td>...</td>\n",
       "    </tr>\n",
       "    <tr>\n",
       "      <th>4798</th>\n",
       "      <td>220000</td>\n",
       "      <td>2040920</td>\n",
       "      <td>81.0</td>\n",
       "    </tr>\n",
       "    <tr>\n",
       "      <th>4799</th>\n",
       "      <td>9000</td>\n",
       "      <td>0</td>\n",
       "      <td>85.0</td>\n",
       "    </tr>\n",
       "    <tr>\n",
       "      <th>4800</th>\n",
       "      <td>0</td>\n",
       "      <td>0</td>\n",
       "      <td>120.0</td>\n",
       "    </tr>\n",
       "    <tr>\n",
       "      <th>4801</th>\n",
       "      <td>0</td>\n",
       "      <td>0</td>\n",
       "      <td>98.0</td>\n",
       "    </tr>\n",
       "    <tr>\n",
       "      <th>4802</th>\n",
       "      <td>0</td>\n",
       "      <td>0</td>\n",
       "      <td>90.0</td>\n",
       "    </tr>\n",
       "  </tbody>\n",
       "</table>\n",
       "<p>4803 rows × 3 columns</p>\n",
       "</div>"
      ],
      "text/plain": [
       "         budget     revenue  runtime\n",
       "0     237000000  2787965087    162.0\n",
       "1     300000000   961000000    169.0\n",
       "2     245000000   880674609    148.0\n",
       "3     250000000  1084939099    165.0\n",
       "4     260000000   284139100    132.0\n",
       "...         ...         ...      ...\n",
       "4798     220000     2040920     81.0\n",
       "4799       9000           0     85.0\n",
       "4800          0           0    120.0\n",
       "4801          0           0     98.0\n",
       "4802          0           0     90.0\n",
       "\n",
       "[4803 rows x 3 columns]"
      ]
     },
     "execution_count": 4,
     "metadata": {},
     "output_type": "execute_result"
    }
   ],
   "source": [
    "#dropping the unnecessary columns (only using this dataset for net profit to runtime)\n",
    "tmdb_new= tmdb.drop(columns=[\"release_date\", \"genres\", \"tagline\", \"id\", \"keywords\", \"popularity\", \"homepage\", \"original_language\", \"original_title\", \"overview\", \"production_companies\", \"production_countries\", \"spoken_languages\", \"status\", \"vote_average\", \"vote_count\", \"title\"])\n",
    "tmdb_new"
   ]
  },
  {
   "cell_type": "code",
   "execution_count": 5,
   "metadata": {},
   "outputs": [
    {
     "data": {
      "text/plain": [
       "budget     0\n",
       "revenue    0\n",
       "runtime    2\n",
       "dtype: int64"
      ]
     },
     "execution_count": 5,
     "metadata": {},
     "output_type": "execute_result"
    }
   ],
   "source": [
    "#check for null values\n",
    "tmdb_new.isna().sum()"
   ]
  },
  {
   "cell_type": "code",
   "execution_count": 6,
   "metadata": {
    "scrolled": true
   },
   "outputs": [],
   "source": [
    "#drop rows with null values\n",
    "tmdb_new.dropna(inplace=True)"
   ]
  },
  {
   "cell_type": "markdown",
   "metadata": {},
   "source": [
    "Because there are only 2 null values out of 4,803, it is a safe assuption that dropping those two rows will not change our data. "
   ]
  },
  {
   "cell_type": "code",
   "execution_count": 7,
   "metadata": {},
   "outputs": [
    {
     "data": {
      "text/plain": [
       "budget     0\n",
       "revenue    0\n",
       "runtime    0\n",
       "dtype: int64"
      ]
     },
     "execution_count": 7,
     "metadata": {},
     "output_type": "execute_result"
    }
   ],
   "source": [
    "#sanity check- make sure the null values have been dropped\n",
    "tmdb_new.isnull().sum()"
   ]
  },
  {
   "cell_type": "code",
   "execution_count": 8,
   "metadata": {
    "scrolled": true
   },
   "outputs": [
    {
     "name": "stdout",
     "output_type": "stream",
     "text": [
      "<class 'pandas.core.frame.DataFrame'>\n",
      "Int64Index: 4801 entries, 0 to 4802\n",
      "Data columns (total 3 columns):\n",
      " #   Column   Non-Null Count  Dtype  \n",
      "---  ------   --------------  -----  \n",
      " 0   budget   4801 non-null   int64  \n",
      " 1   revenue  4801 non-null   int64  \n",
      " 2   runtime  4801 non-null   float64\n",
      "dtypes: float64(1), int64(2)\n",
      "memory usage: 150.0 KB\n"
     ]
    }
   ],
   "source": [
    "#look at the data\n",
    "tmdb_new.info()"
   ]
  },
  {
   "cell_type": "code",
   "execution_count": 9,
   "metadata": {},
   "outputs": [],
   "source": [
    "#drop rows that have values of 0 for budget, revenue, or runtime, as these values are the same as nulls\n",
    "tmdb_new.drop(tmdb_new.query('budget == 0').index, inplace=True)\n",
    "tmdb_new.drop(tmdb_new.query('revenue == 0').index, inplace=True)\n",
    "tmdb_new.drop(tmdb_new.query('runtime == 0').index, inplace=True)"
   ]
  },
  {
   "cell_type": "code",
   "execution_count": 10,
   "metadata": {},
   "outputs": [
    {
     "name": "stdout",
     "output_type": "stream",
     "text": [
      "<class 'pandas.core.frame.DataFrame'>\n",
      "Int64Index: 3229 entries, 0 to 4798\n",
      "Data columns (total 3 columns):\n",
      " #   Column   Non-Null Count  Dtype  \n",
      "---  ------   --------------  -----  \n",
      " 0   budget   3229 non-null   int64  \n",
      " 1   revenue  3229 non-null   int64  \n",
      " 2   runtime  3229 non-null   float64\n",
      "dtypes: float64(1), int64(2)\n",
      "memory usage: 260.9 KB\n"
     ]
    }
   ],
   "source": [
    "#sanity check- make sure the rows with values of 0 have have been dropped\n",
    "tmdb_new.info()"
   ]
  },
  {
   "cell_type": "markdown",
   "metadata": {},
   "source": [
    "We now have 3229 entries as opposed to the 4801 above"
   ]
  },
  {
   "cell_type": "code",
   "execution_count": 11,
   "metadata": {},
   "outputs": [
    {
     "data": {
      "text/plain": [
       "0       2550965087\n",
       "1        661000000\n",
       "2        635674609\n",
       "3        834939099\n",
       "4         24139100\n",
       "           ...    \n",
       "4773       3124130\n",
       "4788       5988000\n",
       "4792         79000\n",
       "4796        417760\n",
       "4798       1820920\n",
       "Name: net_profit, Length: 3229, dtype: int64"
      ]
     },
     "execution_count": 11,
     "metadata": {},
     "output_type": "execute_result"
    }
   ],
   "source": [
    "#calculate net profit\n",
    "tmdb_new['net_profit'] = tmdb_new['revenue'] - tmdb_new['budget']\n",
    "tmdb_new['net_profit']"
   ]
  },
  {
   "cell_type": "markdown",
   "metadata": {},
   "source": [
    "### Data Exploration:"
   ]
  },
  {
   "cell_type": "code",
   "execution_count": 12,
   "metadata": {},
   "outputs": [
    {
     "data": {
      "image/png": "[encoded data removed]",
      "text/plain": [
       "<Figure size 720x288 with 1 Axes>"
      ]
     },
     "metadata": {
      "needs_background": "light"
     },
     "output_type": "display_data"
    }
   ],
   "source": [
    "#plot the runtimes vs net profit\n",
    "fig, ax = plt.subplots (figsize = (10, 4))\n",
    "ax.scatter(tmdb_new['runtime'], tmdb_new['net_profit'], alpha = 0.5)\n",
    "\n",
    "#label the graph and axis \n",
    "ax.set_title('Run Time vs. Net Profit')\n",
    "ax.set_xlabel('Run Time')\n",
    "ax.set_ylabel('Net Profit')\n",
    "\n",
    "#add $ and commas to the axis labels\n",
    "ax.yaxis.set_major_formatter('${x:,.0f}') \n",
    "\n",
    "#create the best fit line \n",
    "x=tmdb_new['runtime']\n",
    "y=tmdb_new['net_profit']\n",
    "m, b = np.polyfit(x,y,1)\n",
    "plt.plot(x, m*x + b, c=\"red\")\n",
    "plt.legend(['Best Fit Line'])\n",
    "\n",
    "#save graphs\n",
    "plt.savefig('./images/Run Time vs. Net Profit.jpeg', bbox_inches = 'tight')\n",
    "plt.savefig('./images/Run Time vs. Net Profit.png', bbox_inches = 'tight');"
   ]
  },
  {
   "cell_type": "code",
   "execution_count": 38,
   "metadata": {},
   "outputs": [
    {
     "data": {
      "text/plain": [
       "0.21014374986314205"
      ]
     },
     "execution_count": 38,
     "metadata": {},
     "output_type": "execute_result"
    }
   ],
   "source": [
    "#calculate the Correlation Coefficient \n",
    "np.corrcoef(tmdb_new['runtime'], tmdb_new['net_profit'])[0][1]"
   ]
  },
  {
   "cell_type": "markdown",
   "metadata": {},
   "source": [
    "Code citation: \n",
    "The code to create the best fit line and to save the images was adapted from: https://github.com/xiaohua-su/Film-Analysis/blob/main/Analysis_of_Films.ipynb"
   ]
  },
  {
   "cell_type": "markdown",
   "metadata": {},
   "source": [
    "### Findings/ Recommendation: "
   ]
  },
  {
   "cell_type": "markdown",
   "metadata": {},
   "source": [
    "As we can see in the graph above, there is a very weak, positive correlation between the a movie's runtime and the movie's net profit. \n",
    "Most movies are between 90-140 minutes, however, the runtime of the movie does not have a strong correlation to the sucess of the movie, so Microsoft can choose to make the movie as long as they want without too much concern.   "
   ]
  },
  {
   "cell_type": "markdown",
   "metadata": {},
   "source": [
    "## Release Month vs. World Wide Net Profit (TN)"
   ]
  },
  {
   "cell_type": "markdown",
   "metadata": {},
   "source": [
    "### Data Preparation:"
   ]
  },
  {
   "cell_type": "code",
   "execution_count": 13,
   "metadata": {},
   "outputs": [],
   "source": [
    "#import the data\n",
    "tn = pd.read_csv('zippedData/tn.movie_budgets.csv')"
   ]
  },
  {
   "cell_type": "code",
   "execution_count": 14,
   "metadata": {},
   "outputs": [
    {
     "data": {
      "text/html": [
       "<div>\n",
       "<style scoped>\n",
       "    .dataframe tbody tr th:only-of-type {\n",
       "        vertical-align: middle;\n",
       "    }\n",
       "\n",
       "    .dataframe tbody tr th {\n",
       "        vertical-align: top;\n",
       "    }\n",
       "\n",
       "    .dataframe thead th {\n",
       "        text-align: right;\n",
       "    }\n",
       "</style>\n",
       "<table border=\"1\" class=\"dataframe\">\n",
       "  <thead>\n",
       "    <tr style=\"text-align: right;\">\n",
       "      <th></th>\n",
       "      <th>id</th>\n",
       "      <th>release_date</th>\n",
       "      <th>movie</th>\n",
       "      <th>production_budget</th>\n",
       "      <th>domestic_gross</th>\n",
       "      <th>worldwide_gross</th>\n",
       "    </tr>\n",
       "  </thead>\n",
       "  <tbody>\n",
       "    <tr>\n",
       "      <th>0</th>\n",
       "      <td>1</td>\n",
       "      <td>Dec 18, 2009</td>\n",
       "      <td>Avatar</td>\n",
       "      <td>$425,000,000</td>\n",
       "      <td>$760,507,625</td>\n",
       "      <td>$2,776,345,279</td>\n",
       "    </tr>\n",
       "    <tr>\n",
       "      <th>1</th>\n",
       "      <td>2</td>\n",
       "      <td>May 20, 2011</td>\n",
       "      <td>Pirates of the Caribbean: On Stranger Tides</td>\n",
       "      <td>$410,600,000</td>\n",
       "      <td>$241,063,875</td>\n",
       "      <td>$1,045,663,875</td>\n",
       "    </tr>\n",
       "    <tr>\n",
       "      <th>2</th>\n",
       "      <td>3</td>\n",
       "      <td>Jun 7, 2019</td>\n",
       "      <td>Dark Phoenix</td>\n",
       "      <td>$350,000,000</td>\n",
       "      <td>$42,762,350</td>\n",
       "      <td>$149,762,350</td>\n",
       "    </tr>\n",
       "    <tr>\n",
       "      <th>3</th>\n",
       "      <td>4</td>\n",
       "      <td>May 1, 2015</td>\n",
       "      <td>Avengers: Age of Ultron</td>\n",
       "      <td>$330,600,000</td>\n",
       "      <td>$459,005,868</td>\n",
       "      <td>$1,403,013,963</td>\n",
       "    </tr>\n",
       "    <tr>\n",
       "      <th>4</th>\n",
       "      <td>5</td>\n",
       "      <td>Dec 15, 2017</td>\n",
       "      <td>Star Wars Ep. VIII: The Last Jedi</td>\n",
       "      <td>$317,000,000</td>\n",
       "      <td>$620,181,382</td>\n",
       "      <td>$1,316,721,747</td>\n",
       "    </tr>\n",
       "    <tr>\n",
       "      <th>5</th>\n",
       "      <td>6</td>\n",
       "      <td>Dec 18, 2015</td>\n",
       "      <td>Star Wars Ep. VII: The Force Awakens</td>\n",
       "      <td>$306,000,000</td>\n",
       "      <td>$936,662,225</td>\n",
       "      <td>$2,053,311,220</td>\n",
       "    </tr>\n",
       "    <tr>\n",
       "      <th>6</th>\n",
       "      <td>7</td>\n",
       "      <td>Apr 27, 2018</td>\n",
       "      <td>Avengers: Infinity War</td>\n",
       "      <td>$300,000,000</td>\n",
       "      <td>$678,815,482</td>\n",
       "      <td>$2,048,134,200</td>\n",
       "    </tr>\n",
       "    <tr>\n",
       "      <th>7</th>\n",
       "      <td>8</td>\n",
       "      <td>May 24, 2007</td>\n",
       "      <td>Pirates of the Caribbean: At Worldâs End</td>\n",
       "      <td>$300,000,000</td>\n",
       "      <td>$309,420,425</td>\n",
       "      <td>$963,420,425</td>\n",
       "    </tr>\n",
       "    <tr>\n",
       "      <th>8</th>\n",
       "      <td>9</td>\n",
       "      <td>Nov 17, 2017</td>\n",
       "      <td>Justice League</td>\n",
       "      <td>$300,000,000</td>\n",
       "      <td>$229,024,295</td>\n",
       "      <td>$655,945,209</td>\n",
       "    </tr>\n",
       "    <tr>\n",
       "      <th>9</th>\n",
       "      <td>10</td>\n",
       "      <td>Nov 6, 2015</td>\n",
       "      <td>Spectre</td>\n",
       "      <td>$300,000,000</td>\n",
       "      <td>$200,074,175</td>\n",
       "      <td>$879,620,923</td>\n",
       "    </tr>\n",
       "  </tbody>\n",
       "</table>\n",
       "</div>"
      ],
      "text/plain": [
       "   id  release_date                                        movie  \\\n",
       "0   1  Dec 18, 2009                                       Avatar   \n",
       "1   2  May 20, 2011  Pirates of the Caribbean: On Stranger Tides   \n",
       "2   3   Jun 7, 2019                                 Dark Phoenix   \n",
       "3   4   May 1, 2015                      Avengers: Age of Ultron   \n",
       "4   5  Dec 15, 2017            Star Wars Ep. VIII: The Last Jedi   \n",
       "5   6  Dec 18, 2015         Star Wars Ep. VII: The Force Awakens   \n",
       "6   7  Apr 27, 2018                       Avengers: Infinity War   \n",
       "7   8  May 24, 2007   Pirates of the Caribbean: At Worldâs End   \n",
       "8   9  Nov 17, 2017                               Justice League   \n",
       "9  10   Nov 6, 2015                                      Spectre   \n",
       "\n",
       "  production_budget domestic_gross worldwide_gross  \n",
       "0      $425,000,000   $760,507,625  $2,776,345,279  \n",
       "1      $410,600,000   $241,063,875  $1,045,663,875  \n",
       "2      $350,000,000    $42,762,350    $149,762,350  \n",
       "3      $330,600,000   $459,005,868  $1,403,013,963  \n",
       "4      $317,000,000   $620,181,382  $1,316,721,747  \n",
       "5      $306,000,000   $936,662,225  $2,053,311,220  \n",
       "6      $300,000,000   $678,815,482  $2,048,134,200  \n",
       "7      $300,000,000   $309,420,425    $963,420,425  \n",
       "8      $300,000,000   $229,024,295    $655,945,209  \n",
       "9      $300,000,000   $200,074,175    $879,620,923  "
      ]
     },
     "execution_count": 14,
     "metadata": {},
     "output_type": "execute_result"
    }
   ],
   "source": [
    "#look at the data\n",
    "tn.head(10)"
   ]
  },
  {
   "cell_type": "code",
   "execution_count": 15,
   "metadata": {
    "scrolled": true
   },
   "outputs": [
    {
     "data": {
      "text/plain": [
       "0       12\n",
       "1        5\n",
       "2        6\n",
       "3        5\n",
       "4       12\n",
       "        ..\n",
       "5777    12\n",
       "5778     4\n",
       "5779     7\n",
       "5780     9\n",
       "5781     8\n",
       "Name: release_month, Length: 5782, dtype: int64"
      ]
     },
     "execution_count": 15,
     "metadata": {},
     "output_type": "execute_result"
    }
   ],
   "source": [
    "#separate the month of the movie's release from the rest of the date\n",
    "tn['release_month'] = pd.DatetimeIndex(tn['release_date']).month\n",
    "tn['release_month']"
   ]
  },
  {
   "cell_type": "code",
   "execution_count": 16,
   "metadata": {},
   "outputs": [
    {
     "name": "stdout",
     "output_type": "stream",
     "text": [
      "<class 'pandas.core.frame.DataFrame'>\n",
      "RangeIndex: 5782 entries, 0 to 5781\n",
      "Data columns (total 7 columns):\n",
      " #   Column             Non-Null Count  Dtype \n",
      "---  ------             --------------  ----- \n",
      " 0   id                 5782 non-null   int64 \n",
      " 1   release_date       5782 non-null   object\n",
      " 2   movie              5782 non-null   object\n",
      " 3   production_budget  5782 non-null   object\n",
      " 4   domestic_gross     5782 non-null   object\n",
      " 5   worldwide_gross    5782 non-null   object\n",
      " 6   release_month      5782 non-null   int64 \n",
      "dtypes: int64(2), object(5)\n",
      "memory usage: 316.3+ KB\n"
     ]
    }
   ],
   "source": [
    "#check for null values types of data for each column\n",
    "tn.info()"
   ]
  },
  {
   "cell_type": "markdown",
   "metadata": {},
   "source": [
    "Here we see there are no null values, this data has been pre- cleaned for nulls"
   ]
  },
  {
   "cell_type": "code",
   "execution_count": 17,
   "metadata": {},
   "outputs": [],
   "source": [
    "#check to see if there are any values of 0 for worldwide gross, production budget or release month. \n",
    "#Values of 0 are the same as nulls so the rows will be dropped\n",
    "\n",
    "tn.drop(tn.query('worldwide_gross == 0').index, inplace=True) \n",
    "tn.drop(tn.query('release_month == 0').index, inplace=True)\n",
    "tn.drop(tn.query('production_budget == 0').index, inplace=True)"
   ]
  },
  {
   "cell_type": "code",
   "execution_count": 18,
   "metadata": {},
   "outputs": [
    {
     "name": "stdout",
     "output_type": "stream",
     "text": [
      "<class 'pandas.core.frame.DataFrame'>\n",
      "Int64Index: 5782 entries, 0 to 5781\n",
      "Data columns (total 7 columns):\n",
      " #   Column             Non-Null Count  Dtype \n",
      "---  ------             --------------  ----- \n",
      " 0   id                 5782 non-null   int64 \n",
      " 1   release_date       5782 non-null   object\n",
      " 2   movie              5782 non-null   object\n",
      " 3   production_budget  5782 non-null   object\n",
      " 4   domestic_gross     5782 non-null   object\n",
      " 5   worldwide_gross    5782 non-null   object\n",
      " 6   release_month      5782 non-null   int64 \n",
      "dtypes: int64(2), object(5)\n",
      "memory usage: 521.4+ KB\n"
     ]
    }
   ],
   "source": [
    "#check to see if any rows were dropped \n",
    "tn.info()"
   ]
  },
  {
   "cell_type": "markdown",
   "metadata": {},
   "source": [
    "This table has the same number of rows, so there werent any values of 0"
   ]
  },
  {
   "cell_type": "markdown",
   "metadata": {},
   "source": [
    "Here we also see the \"worldwide_gross\" and \"production budget\" column types are \"object\".  We need to change them to integers to be able to calculate the net revenue and then graph that against the month  "
   ]
  },
  {
   "cell_type": "code",
   "execution_count": 19,
   "metadata": {},
   "outputs": [
    {
     "data": {
      "text/plain": [
       "0       2776345279\n",
       "1       1045663875\n",
       "2        149762350\n",
       "3       1403013963\n",
       "4       1316721747\n",
       "           ...    \n",
       "5777             0\n",
       "5778        240495\n",
       "5779          1338\n",
       "5780             0\n",
       "5781        181041\n",
       "Name: gross_clean, Length: 5782, dtype: int64"
      ]
     },
     "execution_count": 19,
     "metadata": {},
     "output_type": "execute_result"
    }
   ],
   "source": [
    "#change worldwide gross from an object to an int\n",
    "\n",
    "tn['gross_clean'] = tn['worldwide_gross'].str.replace('$','').str.replace(',','')\n",
    "tn['gross_clean'] = pd.to_numeric(tn['gross_clean'])\n",
    "tn['gross_clean']"
   ]
  },
  {
   "cell_type": "markdown",
   "metadata": {},
   "source": [
    "Code citation: \n",
    "The code to change the gross revenue from an object to an integer was adapted from:  https://github.com/xiaohua-su/Film-Analysis/blob/main/Analysis_of_Films.ipynb"
   ]
  },
  {
   "cell_type": "code",
   "execution_count": 20,
   "metadata": {},
   "outputs": [
    {
     "name": "stdout",
     "output_type": "stream",
     "text": [
      "<class 'pandas.core.frame.DataFrame'>\n",
      "Int64Index: 5782 entries, 0 to 5781\n",
      "Data columns (total 8 columns):\n",
      " #   Column             Non-Null Count  Dtype \n",
      "---  ------             --------------  ----- \n",
      " 0   id                 5782 non-null   int64 \n",
      " 1   release_date       5782 non-null   object\n",
      " 2   movie              5782 non-null   object\n",
      " 3   production_budget  5782 non-null   object\n",
      " 4   domestic_gross     5782 non-null   object\n",
      " 5   worldwide_gross    5782 non-null   object\n",
      " 6   release_month      5782 non-null   int64 \n",
      " 7   gross_clean        5782 non-null   int64 \n",
      "dtypes: int64(3), object(5)\n",
      "memory usage: 566.5+ KB\n"
     ]
    }
   ],
   "source": [
    "#sanity check- confirm that the gross_clean is an integer\n",
    "tn.info()"
   ]
  },
  {
   "cell_type": "code",
   "execution_count": 21,
   "metadata": {},
   "outputs": [
    {
     "data": {
      "text/plain": [
       "0       425000000\n",
       "1       410600000\n",
       "2       350000000\n",
       "3       330600000\n",
       "4       317000000\n",
       "          ...    \n",
       "5777         7000\n",
       "5778         6000\n",
       "5779         5000\n",
       "5780         1400\n",
       "5781         1100\n",
       "Name: PB_clean, Length: 5782, dtype: int64"
      ]
     },
     "execution_count": 21,
     "metadata": {},
     "output_type": "execute_result"
    }
   ],
   "source": [
    "#change production budget from an object to an int\n",
    "\n",
    "tn['PB_clean'] = tn['production_budget'].str.replace('$','').str.replace(',','')\n",
    "tn['PB_clean'] = pd.to_numeric(tn['PB_clean'])\n",
    "tn['PB_clean']"
   ]
  },
  {
   "cell_type": "code",
   "execution_count": 22,
   "metadata": {},
   "outputs": [
    {
     "name": "stdout",
     "output_type": "stream",
     "text": [
      "<class 'pandas.core.frame.DataFrame'>\n",
      "Int64Index: 5782 entries, 0 to 5781\n",
      "Data columns (total 9 columns):\n",
      " #   Column             Non-Null Count  Dtype \n",
      "---  ------             --------------  ----- \n",
      " 0   id                 5782 non-null   int64 \n",
      " 1   release_date       5782 non-null   object\n",
      " 2   movie              5782 non-null   object\n",
      " 3   production_budget  5782 non-null   object\n",
      " 4   domestic_gross     5782 non-null   object\n",
      " 5   worldwide_gross    5782 non-null   object\n",
      " 6   release_month      5782 non-null   int64 \n",
      " 7   gross_clean        5782 non-null   int64 \n",
      " 8   PB_clean           5782 non-null   int64 \n",
      "dtypes: int64(4), object(5)\n",
      "memory usage: 611.7+ KB\n"
     ]
    }
   ],
   "source": [
    "#sanity check- confirm that the PB_clean is an integer\n",
    "tn.info()"
   ]
  },
  {
   "cell_type": "code",
   "execution_count": 23,
   "metadata": {},
   "outputs": [
    {
     "data": {
      "text/plain": [
       "0       2351345279\n",
       "1        635063875\n",
       "2       -200237650\n",
       "3       1072413963\n",
       "4        999721747\n",
       "           ...    \n",
       "5777         -7000\n",
       "5778        234495\n",
       "5779         -3662\n",
       "5780         -1400\n",
       "5781        179941\n",
       "Name: net_profit, Length: 5782, dtype: int64"
      ]
     },
     "execution_count": 23,
     "metadata": {},
     "output_type": "execute_result"
    }
   ],
   "source": [
    "#calculate the net profit\n",
    "tn['net_profit'] = tn['gross_clean'] - tn['PB_clean']\n",
    "tn['net_profit']"
   ]
  },
  {
   "cell_type": "markdown",
   "metadata": {},
   "source": [
    "### A sidenote as to why I used worldwide gross revenue to calculate the net profit as opposed to the domestic gross revenue:"
   ]
  },
  {
   "cell_type": "markdown",
   "metadata": {},
   "source": [
    "One of the advantages of 21st century technology is that people can watch content that is made in other countries and companies can profit from this. "
   ]
  },
  {
   "cell_type": "markdown",
   "metadata": {},
   "source": [
    "To illustrate the amount of gross revenue made from movies outside of the U.S, I subtracted worldwide gross from the domestic gross."
   ]
  },
  {
   "cell_type": "code",
   "execution_count": 24,
   "metadata": {},
   "outputs": [
    {
     "data": {
      "text/plain": [
       "0       760507625\n",
       "1       241063875\n",
       "2        42762350\n",
       "3       459005868\n",
       "4       620181382\n",
       "          ...    \n",
       "5777            0\n",
       "5778        48482\n",
       "5779         1338\n",
       "5780            0\n",
       "5781       181041\n",
       "Name: dom_gross_clean, Length: 5782, dtype: int64"
      ]
     },
     "execution_count": 24,
     "metadata": {},
     "output_type": "execute_result"
    }
   ],
   "source": [
    "#change domestic gross from an object to an int\n",
    "tn['dom_gross_clean'] = tn['domestic_gross'].str.replace('$','').str.replace(',','')\n",
    "tn['dom_gross_clean'] = pd.to_numeric(tn['dom_gross_clean'])\n",
    "tn['dom_gross_clean']"
   ]
  },
  {
   "cell_type": "code",
   "execution_count": 25,
   "metadata": {},
   "outputs": [
    {
     "data": {
      "text/plain": [
       "0      2015837654\n",
       "42     1548844451\n",
       "6      1369318718\n",
       "66     1165715774\n",
       "5      1116648995\n",
       "22     1009081502\n",
       "33      996584239\n",
       "260     960500000\n",
       "3       944008095\n",
       "26      894656350\n",
       "112     888053039\n",
       "155     871731901\n",
       "36      858600000\n",
       "672     824290403\n",
       "135     811832833\n",
       "47      806400000\n",
       "51      806166704\n",
       "1       804600000\n",
       "63      771400000\n",
       "629     770103450\n",
       "dtype: int64"
      ]
     },
     "execution_count": 25,
     "metadata": {},
     "output_type": "execute_result"
    }
   ],
   "source": [
    "#calculate foreign gross revenue\n",
    "foreign_gross_revenue = tn[\"gross_clean\"] - tn[\"dom_gross_clean\"]\n",
    "\n",
    "foreign_gross_revenue.sort_values(ascending=False).head(20)"
   ]
  },
  {
   "cell_type": "markdown",
   "metadata": {},
   "source": [
    "As we can see from this data, a lot of revenue is generated from other countries, so limiting our data to just domestic gross may not give us a full picture. "
   ]
  },
  {
   "cell_type": "markdown",
   "metadata": {},
   "source": [
    "### Back to comparing release date to worldwide net profit:"
   ]
  },
  {
   "cell_type": "markdown",
   "metadata": {},
   "source": [
    "Through my data exploration I saw that the premiere date for the top 100 netting movies varied greatly from the premiere dates for the rest of the movies analyzed. For that reason, I decided to compare the premiere dates of the top 100 movies to the premiere dates of the rest of the movies. "
   ]
  },
  {
   "cell_type": "code",
   "execution_count": 26,
   "metadata": {
    "scrolled": true
   },
   "outputs": [
    {
     "data": {
      "text/html": [
       "<div>\n",
       "<style scoped>\n",
       "    .dataframe tbody tr th:only-of-type {\n",
       "        vertical-align: middle;\n",
       "    }\n",
       "\n",
       "    .dataframe tbody tr th {\n",
       "        vertical-align: top;\n",
       "    }\n",
       "\n",
       "    .dataframe thead th {\n",
       "        text-align: right;\n",
       "    }\n",
       "</style>\n",
       "<table border=\"1\" class=\"dataframe\">\n",
       "  <thead>\n",
       "    <tr style=\"text-align: right;\">\n",
       "      <th></th>\n",
       "      <th>id</th>\n",
       "      <th>release_date</th>\n",
       "      <th>movie</th>\n",
       "      <th>production_budget</th>\n",
       "      <th>domestic_gross</th>\n",
       "      <th>worldwide_gross</th>\n",
       "      <th>release_month</th>\n",
       "      <th>gross_clean</th>\n",
       "      <th>PB_clean</th>\n",
       "      <th>net_profit</th>\n",
       "      <th>dom_gross_clean</th>\n",
       "    </tr>\n",
       "  </thead>\n",
       "  <tbody>\n",
       "    <tr>\n",
       "      <th>0</th>\n",
       "      <td>1</td>\n",
       "      <td>Dec 18, 2009</td>\n",
       "      <td>Avatar</td>\n",
       "      <td>$425,000,000</td>\n",
       "      <td>$760,507,625</td>\n",
       "      <td>$2,776,345,279</td>\n",
       "      <td>12</td>\n",
       "      <td>2776345279</td>\n",
       "      <td>425000000</td>\n",
       "      <td>2351345279</td>\n",
       "      <td>760507625</td>\n",
       "    </tr>\n",
       "    <tr>\n",
       "      <th>42</th>\n",
       "      <td>43</td>\n",
       "      <td>Dec 19, 1997</td>\n",
       "      <td>Titanic</td>\n",
       "      <td>$200,000,000</td>\n",
       "      <td>$659,363,944</td>\n",
       "      <td>$2,208,208,395</td>\n",
       "      <td>12</td>\n",
       "      <td>2208208395</td>\n",
       "      <td>200000000</td>\n",
       "      <td>2008208395</td>\n",
       "      <td>659363944</td>\n",
       "    </tr>\n",
       "    <tr>\n",
       "      <th>6</th>\n",
       "      <td>7</td>\n",
       "      <td>Apr 27, 2018</td>\n",
       "      <td>Avengers: Infinity War</td>\n",
       "      <td>$300,000,000</td>\n",
       "      <td>$678,815,482</td>\n",
       "      <td>$2,048,134,200</td>\n",
       "      <td>4</td>\n",
       "      <td>2048134200</td>\n",
       "      <td>300000000</td>\n",
       "      <td>1748134200</td>\n",
       "      <td>678815482</td>\n",
       "    </tr>\n",
       "    <tr>\n",
       "      <th>5</th>\n",
       "      <td>6</td>\n",
       "      <td>Dec 18, 2015</td>\n",
       "      <td>Star Wars Ep. VII: The Force Awakens</td>\n",
       "      <td>$306,000,000</td>\n",
       "      <td>$936,662,225</td>\n",
       "      <td>$2,053,311,220</td>\n",
       "      <td>12</td>\n",
       "      <td>2053311220</td>\n",
       "      <td>306000000</td>\n",
       "      <td>1747311220</td>\n",
       "      <td>936662225</td>\n",
       "    </tr>\n",
       "    <tr>\n",
       "      <th>33</th>\n",
       "      <td>34</td>\n",
       "      <td>Jun 12, 2015</td>\n",
       "      <td>Jurassic World</td>\n",
       "      <td>$215,000,000</td>\n",
       "      <td>$652,270,625</td>\n",
       "      <td>$1,648,854,864</td>\n",
       "      <td>6</td>\n",
       "      <td>1648854864</td>\n",
       "      <td>215000000</td>\n",
       "      <td>1433854864</td>\n",
       "      <td>652270625</td>\n",
       "    </tr>\n",
       "    <tr>\n",
       "      <th>...</th>\n",
       "      <td>...</td>\n",
       "      <td>...</td>\n",
       "      <td>...</td>\n",
       "      <td>...</td>\n",
       "      <td>...</td>\n",
       "      <td>...</td>\n",
       "      <td>...</td>\n",
       "      <td>...</td>\n",
       "      <td>...</td>\n",
       "      <td>...</td>\n",
       "      <td>...</td>\n",
       "    </tr>\n",
       "    <tr>\n",
       "      <th>2159</th>\n",
       "      <td>60</td>\n",
       "      <td>Feb 25, 2004</td>\n",
       "      <td>The Passion of the Christ</td>\n",
       "      <td>$25,000,000</td>\n",
       "      <td>$370,782,930</td>\n",
       "      <td>$622,341,924</td>\n",
       "      <td>2</td>\n",
       "      <td>622341924</td>\n",
       "      <td>25000000</td>\n",
       "      <td>597341924</td>\n",
       "      <td>370782930</td>\n",
       "    </tr>\n",
       "    <tr>\n",
       "      <th>49</th>\n",
       "      <td>50</td>\n",
       "      <td>Jun 30, 2004</td>\n",
       "      <td>Spider-Man 2</td>\n",
       "      <td>$200,000,000</td>\n",
       "      <td>$373,524,485</td>\n",
       "      <td>$795,110,670</td>\n",
       "      <td>6</td>\n",
       "      <td>795110670</td>\n",
       "      <td>200000000</td>\n",
       "      <td>595110670</td>\n",
       "      <td>373524485</td>\n",
       "    </tr>\n",
       "    <tr>\n",
       "      <th>126</th>\n",
       "      <td>27</td>\n",
       "      <td>May 21, 2010</td>\n",
       "      <td>Shrek Forever After</td>\n",
       "      <td>$165,000,000</td>\n",
       "      <td>$238,736,787</td>\n",
       "      <td>$756,244,673</td>\n",
       "      <td>5</td>\n",
       "      <td>756244673</td>\n",
       "      <td>165000000</td>\n",
       "      <td>591244673</td>\n",
       "      <td>238736787</td>\n",
       "    </tr>\n",
       "    <tr>\n",
       "      <th>159</th>\n",
       "      <td>60</td>\n",
       "      <td>May 15, 2003</td>\n",
       "      <td>The Matrix Reloaded</td>\n",
       "      <td>$150,000,000</td>\n",
       "      <td>$281,553,689</td>\n",
       "      <td>$738,576,929</td>\n",
       "      <td>5</td>\n",
       "      <td>738576929</td>\n",
       "      <td>150000000</td>\n",
       "      <td>588576929</td>\n",
       "      <td>281553689</td>\n",
       "    </tr>\n",
       "    <tr>\n",
       "      <th>2485</th>\n",
       "      <td>86</td>\n",
       "      <td>Nov 13, 1991</td>\n",
       "      <td>Beauty and the Beast</td>\n",
       "      <td>$20,000,000</td>\n",
       "      <td>$376,057,266</td>\n",
       "      <td>$608,431,132</td>\n",
       "      <td>11</td>\n",
       "      <td>608431132</td>\n",
       "      <td>20000000</td>\n",
       "      <td>588431132</td>\n",
       "      <td>376057266</td>\n",
       "    </tr>\n",
       "  </tbody>\n",
       "</table>\n",
       "<p>100 rows × 11 columns</p>\n",
       "</div>"
      ],
      "text/plain": [
       "      id  release_date                                 movie  \\\n",
       "0      1  Dec 18, 2009                                Avatar   \n",
       "42    43  Dec 19, 1997                               Titanic   \n",
       "6      7  Apr 27, 2018                Avengers: Infinity War   \n",
       "5      6  Dec 18, 2015  Star Wars Ep. VII: The Force Awakens   \n",
       "33    34  Jun 12, 2015                        Jurassic World   \n",
       "...   ..           ...                                   ...   \n",
       "2159  60  Feb 25, 2004             The Passion of the Christ   \n",
       "49    50  Jun 30, 2004                          Spider-Man 2   \n",
       "126   27  May 21, 2010                   Shrek Forever After   \n",
       "159   60  May 15, 2003                   The Matrix Reloaded   \n",
       "2485  86  Nov 13, 1991                  Beauty and the Beast   \n",
       "\n",
       "     production_budget domestic_gross worldwide_gross  release_month  \\\n",
       "0         $425,000,000   $760,507,625  $2,776,345,279             12   \n",
       "42        $200,000,000   $659,363,944  $2,208,208,395             12   \n",
       "6         $300,000,000   $678,815,482  $2,048,134,200              4   \n",
       "5         $306,000,000   $936,662,225  $2,053,311,220             12   \n",
       "33        $215,000,000   $652,270,625  $1,648,854,864              6   \n",
       "...                ...            ...             ...            ...   \n",
       "2159       $25,000,000   $370,782,930    $622,341,924              2   \n",
       "49        $200,000,000   $373,524,485    $795,110,670              6   \n",
       "126       $165,000,000   $238,736,787    $756,244,673              5   \n",
       "159       $150,000,000   $281,553,689    $738,576,929              5   \n",
       "2485       $20,000,000   $376,057,266    $608,431,132             11   \n",
       "\n",
       "      gross_clean   PB_clean  net_profit  dom_gross_clean  \n",
       "0      2776345279  425000000  2351345279        760507625  \n",
       "42     2208208395  200000000  2008208395        659363944  \n",
       "6      2048134200  300000000  1748134200        678815482  \n",
       "5      2053311220  306000000  1747311220        936662225  \n",
       "33     1648854864  215000000  1433854864        652270625  \n",
       "...           ...        ...         ...              ...  \n",
       "2159    622341924   25000000   597341924        370782930  \n",
       "49      795110670  200000000   595110670        373524485  \n",
       "126     756244673  165000000   591244673        238736787  \n",
       "159     738576929  150000000   588576929        281553689  \n",
       "2485    608431132   20000000   588431132        376057266  \n",
       "\n",
       "[100 rows x 11 columns]"
      ]
     },
     "execution_count": 26,
     "metadata": {},
     "output_type": "execute_result"
    }
   ],
   "source": [
    "#pull out the top 100 movies based on net profit\n",
    "tn_top100 = tn.sort_values(by='net_profit', ascending=False)[:100]\n",
    "tn_top100"
   ]
  },
  {
   "cell_type": "code",
   "execution_count": 27,
   "metadata": {},
   "outputs": [
    {
     "data": {
      "text/plain": [
       "2     0.03\n",
       "3     0.06\n",
       "4     0.04\n",
       "5     0.21\n",
       "6     0.18\n",
       "7     0.16\n",
       "8     0.02\n",
       "9     0.01\n",
       "10    0.01\n",
       "11    0.15\n",
       "12    0.13\n",
       "Name: release_month, dtype: float64"
      ]
     },
     "execution_count": 27,
     "metadata": {},
     "output_type": "execute_result"
    }
   ],
   "source": [
    "#Get the value counts of how many of the top 100 movies came out each month, as a percentage\n",
    "tn_top100_mc = tn_top100['release_month'].value_counts(normalize = True).sort_index()\n",
    "tn_top100_mc"
   ]
  },
  {
   "cell_type": "code",
   "execution_count": 28,
   "metadata": {},
   "outputs": [
    {
     "data": {
      "text/plain": [
       "array([0.  , 0.03, 0.06, 0.04, 0.21, 0.18, 0.16, 0.02, 0.01, 0.01, 0.15,\n",
       "       0.13])"
      ]
     },
     "execution_count": 28,
     "metadata": {},
     "output_type": "execute_result"
    }
   ],
   "source": [
    "# append the series to have a value of 0 listed for January as none of the top 100 movies premiered in January\n",
    "tn_top100_mc = np.array([0,0.03,0.06,0.04,0.21,0.18,0.16,0.02,0.01,0.01,0.15,0.13])\n",
    "tn_top100_mc"
   ]
  },
  {
   "cell_type": "code",
   "execution_count": 29,
   "metadata": {},
   "outputs": [
    {
     "data": {
      "text/html": [
       "<div>\n",
       "<style scoped>\n",
       "    .dataframe tbody tr th:only-of-type {\n",
       "        vertical-align: middle;\n",
       "    }\n",
       "\n",
       "    .dataframe tbody tr th {\n",
       "        vertical-align: top;\n",
       "    }\n",
       "\n",
       "    .dataframe thead th {\n",
       "        text-align: right;\n",
       "    }\n",
       "</style>\n",
       "<table border=\"1\" class=\"dataframe\">\n",
       "  <thead>\n",
       "    <tr style=\"text-align: right;\">\n",
       "      <th></th>\n",
       "      <th>id</th>\n",
       "      <th>release_date</th>\n",
       "      <th>movie</th>\n",
       "      <th>production_budget</th>\n",
       "      <th>domestic_gross</th>\n",
       "      <th>worldwide_gross</th>\n",
       "      <th>release_month</th>\n",
       "      <th>gross_clean</th>\n",
       "      <th>PB_clean</th>\n",
       "      <th>net_profit</th>\n",
       "      <th>dom_gross_clean</th>\n",
       "    </tr>\n",
       "  </thead>\n",
       "  <tbody>\n",
       "    <tr>\n",
       "      <th>0</th>\n",
       "      <td>1</td>\n",
       "      <td>Dec 18, 2009</td>\n",
       "      <td>Avatar</td>\n",
       "      <td>$425,000,000</td>\n",
       "      <td>$760,507,625</td>\n",
       "      <td>$2,776,345,279</td>\n",
       "      <td>12</td>\n",
       "      <td>2776345279</td>\n",
       "      <td>425000000</td>\n",
       "      <td>2351345279</td>\n",
       "      <td>760507625</td>\n",
       "    </tr>\n",
       "    <tr>\n",
       "      <th>42</th>\n",
       "      <td>43</td>\n",
       "      <td>Dec 19, 1997</td>\n",
       "      <td>Titanic</td>\n",
       "      <td>$200,000,000</td>\n",
       "      <td>$659,363,944</td>\n",
       "      <td>$2,208,208,395</td>\n",
       "      <td>12</td>\n",
       "      <td>2208208395</td>\n",
       "      <td>200000000</td>\n",
       "      <td>2008208395</td>\n",
       "      <td>659363944</td>\n",
       "    </tr>\n",
       "    <tr>\n",
       "      <th>6</th>\n",
       "      <td>7</td>\n",
       "      <td>Apr 27, 2018</td>\n",
       "      <td>Avengers: Infinity War</td>\n",
       "      <td>$300,000,000</td>\n",
       "      <td>$678,815,482</td>\n",
       "      <td>$2,048,134,200</td>\n",
       "      <td>4</td>\n",
       "      <td>2048134200</td>\n",
       "      <td>300000000</td>\n",
       "      <td>1748134200</td>\n",
       "      <td>678815482</td>\n",
       "    </tr>\n",
       "    <tr>\n",
       "      <th>5</th>\n",
       "      <td>6</td>\n",
       "      <td>Dec 18, 2015</td>\n",
       "      <td>Star Wars Ep. VII: The Force Awakens</td>\n",
       "      <td>$306,000,000</td>\n",
       "      <td>$936,662,225</td>\n",
       "      <td>$2,053,311,220</td>\n",
       "      <td>12</td>\n",
       "      <td>2053311220</td>\n",
       "      <td>306000000</td>\n",
       "      <td>1747311220</td>\n",
       "      <td>936662225</td>\n",
       "    </tr>\n",
       "    <tr>\n",
       "      <th>33</th>\n",
       "      <td>34</td>\n",
       "      <td>Jun 12, 2015</td>\n",
       "      <td>Jurassic World</td>\n",
       "      <td>$215,000,000</td>\n",
       "      <td>$652,270,625</td>\n",
       "      <td>$1,648,854,864</td>\n",
       "      <td>6</td>\n",
       "      <td>1648854864</td>\n",
       "      <td>215000000</td>\n",
       "      <td>1433854864</td>\n",
       "      <td>652270625</td>\n",
       "    </tr>\n",
       "    <tr>\n",
       "      <th>...</th>\n",
       "      <td>...</td>\n",
       "      <td>...</td>\n",
       "      <td>...</td>\n",
       "      <td>...</td>\n",
       "      <td>...</td>\n",
       "      <td>...</td>\n",
       "      <td>...</td>\n",
       "      <td>...</td>\n",
       "      <td>...</td>\n",
       "      <td>...</td>\n",
       "      <td>...</td>\n",
       "    </tr>\n",
       "    <tr>\n",
       "      <th>2159</th>\n",
       "      <td>60</td>\n",
       "      <td>Feb 25, 2004</td>\n",
       "      <td>The Passion of the Christ</td>\n",
       "      <td>$25,000,000</td>\n",
       "      <td>$370,782,930</td>\n",
       "      <td>$622,341,924</td>\n",
       "      <td>2</td>\n",
       "      <td>622341924</td>\n",
       "      <td>25000000</td>\n",
       "      <td>597341924</td>\n",
       "      <td>370782930</td>\n",
       "    </tr>\n",
       "    <tr>\n",
       "      <th>49</th>\n",
       "      <td>50</td>\n",
       "      <td>Jun 30, 2004</td>\n",
       "      <td>Spider-Man 2</td>\n",
       "      <td>$200,000,000</td>\n",
       "      <td>$373,524,485</td>\n",
       "      <td>$795,110,670</td>\n",
       "      <td>6</td>\n",
       "      <td>795110670</td>\n",
       "      <td>200000000</td>\n",
       "      <td>595110670</td>\n",
       "      <td>373524485</td>\n",
       "    </tr>\n",
       "    <tr>\n",
       "      <th>126</th>\n",
       "      <td>27</td>\n",
       "      <td>May 21, 2010</td>\n",
       "      <td>Shrek Forever After</td>\n",
       "      <td>$165,000,000</td>\n",
       "      <td>$238,736,787</td>\n",
       "      <td>$756,244,673</td>\n",
       "      <td>5</td>\n",
       "      <td>756244673</td>\n",
       "      <td>165000000</td>\n",
       "      <td>591244673</td>\n",
       "      <td>238736787</td>\n",
       "    </tr>\n",
       "    <tr>\n",
       "      <th>159</th>\n",
       "      <td>60</td>\n",
       "      <td>May 15, 2003</td>\n",
       "      <td>The Matrix Reloaded</td>\n",
       "      <td>$150,000,000</td>\n",
       "      <td>$281,553,689</td>\n",
       "      <td>$738,576,929</td>\n",
       "      <td>5</td>\n",
       "      <td>738576929</td>\n",
       "      <td>150000000</td>\n",
       "      <td>588576929</td>\n",
       "      <td>281553689</td>\n",
       "    </tr>\n",
       "    <tr>\n",
       "      <th>2485</th>\n",
       "      <td>86</td>\n",
       "      <td>Nov 13, 1991</td>\n",
       "      <td>Beauty and the Beast</td>\n",
       "      <td>$20,000,000</td>\n",
       "      <td>$376,057,266</td>\n",
       "      <td>$608,431,132</td>\n",
       "      <td>11</td>\n",
       "      <td>608431132</td>\n",
       "      <td>20000000</td>\n",
       "      <td>588431132</td>\n",
       "      <td>376057266</td>\n",
       "    </tr>\n",
       "  </tbody>\n",
       "</table>\n",
       "<p>100 rows × 11 columns</p>\n",
       "</div>"
      ],
      "text/plain": [
       "      id  release_date                                 movie  \\\n",
       "0      1  Dec 18, 2009                                Avatar   \n",
       "42    43  Dec 19, 1997                               Titanic   \n",
       "6      7  Apr 27, 2018                Avengers: Infinity War   \n",
       "5      6  Dec 18, 2015  Star Wars Ep. VII: The Force Awakens   \n",
       "33    34  Jun 12, 2015                        Jurassic World   \n",
       "...   ..           ...                                   ...   \n",
       "2159  60  Feb 25, 2004             The Passion of the Christ   \n",
       "49    50  Jun 30, 2004                          Spider-Man 2   \n",
       "126   27  May 21, 2010                   Shrek Forever After   \n",
       "159   60  May 15, 2003                   The Matrix Reloaded   \n",
       "2485  86  Nov 13, 1991                  Beauty and the Beast   \n",
       "\n",
       "     production_budget domestic_gross worldwide_gross  release_month  \\\n",
       "0         $425,000,000   $760,507,625  $2,776,345,279             12   \n",
       "42        $200,000,000   $659,363,944  $2,208,208,395             12   \n",
       "6         $300,000,000   $678,815,482  $2,048,134,200              4   \n",
       "5         $306,000,000   $936,662,225  $2,053,311,220             12   \n",
       "33        $215,000,000   $652,270,625  $1,648,854,864              6   \n",
       "...                ...            ...             ...            ...   \n",
       "2159       $25,000,000   $370,782,930    $622,341,924              2   \n",
       "49        $200,000,000   $373,524,485    $795,110,670              6   \n",
       "126       $165,000,000   $238,736,787    $756,244,673              5   \n",
       "159       $150,000,000   $281,553,689    $738,576,929              5   \n",
       "2485       $20,000,000   $376,057,266    $608,431,132             11   \n",
       "\n",
       "      gross_clean   PB_clean  net_profit  dom_gross_clean  \n",
       "0      2776345279  425000000  2351345279        760507625  \n",
       "42     2208208395  200000000  2008208395        659363944  \n",
       "6      2048134200  300000000  1748134200        678815482  \n",
       "5      2053311220  306000000  1747311220        936662225  \n",
       "33     1648854864  215000000  1433854864        652270625  \n",
       "...           ...        ...         ...              ...  \n",
       "2159    622341924   25000000   597341924        370782930  \n",
       "49      795110670  200000000   595110670        373524485  \n",
       "126     756244673  165000000   591244673        238736787  \n",
       "159     738576929  150000000   588576929        281553689  \n",
       "2485    608431132   20000000   588431132        376057266  \n",
       "\n",
       "[100 rows x 11 columns]"
      ]
     },
     "execution_count": 29,
     "metadata": {},
     "output_type": "execute_result"
    }
   ],
   "source": [
    "#Sort the rest of the movies based on net profit\n",
    "other_5682 = tn.sort_values(by='net_profit', ascending=False)[:100]\n",
    "other_5682"
   ]
  },
  {
   "cell_type": "code",
   "execution_count": 30,
   "metadata": {},
   "outputs": [
    {
     "data": {
      "text/plain": [
       "1     0.060014\n",
       "2     0.067797\n",
       "3     0.081287\n",
       "4     0.078520\n",
       "5     0.070391\n",
       "6     0.082843\n",
       "7     0.076098\n",
       "8     0.085783\n",
       "9     0.085265\n",
       "10    0.099101\n",
       "11    0.084054\n",
       "12    0.128848\n",
       "Name: release_month, dtype: float64"
      ]
     },
     "execution_count": 30,
     "metadata": {},
     "output_type": "execute_result"
    }
   ],
   "source": [
    "#Get the value counts of how many of the rest of the movies came out each month, as a percentage\n",
    "other_5682_mc = tn['release_month'].value_counts(normalize = True).sort_index()\n",
    "other_5682_mc"
   ]
  },
  {
   "cell_type": "markdown",
   "metadata": {},
   "source": [
    "### Data Exploration:"
   ]
  },
  {
   "cell_type": "code",
   "execution_count": 31,
   "metadata": {},
   "outputs": [
    {
     "data": {
      "text/plain": [
       "array([ 1,  2,  3,  4,  5,  6,  7,  8,  9, 10, 11, 12])"
      ]
     },
     "execution_count": 31,
     "metadata": {},
     "output_type": "execute_result"
    }
   ],
   "source": [
    "#setting the labels for my x-axis \n",
    "x_axis = other_5682_mc.index.to_numpy()\n",
    "x_axis"
   ]
  },
  {
   "cell_type": "code",
   "execution_count": 32,
   "metadata": {
    "scrolled": true
   },
   "outputs": [
    {
     "data": {
      "image/png": "[encoded data removed]",
      "text/plain": [
       "<Figure size 432x288 with 1 Axes>"
      ]
     },
     "metadata": {
      "needs_background": "light"
     },
     "output_type": "display_data"
    }
   ],
   "source": [
    "#plot the frequency of movies premiering each month\n",
    "fig, ax = plt.subplots()\n",
    "ax.bar(x_axis -0.2, other_5682_mc.values, width = .4, color = \"green\")\n",
    "ax.bar(x_axis +0.2, tn_top100_mc, width = .4, color = \"blue\")\n",
    "\n",
    "#abel graph and axis\n",
    "ax.set_xlabel('Months')\n",
    "ax.set_ylabel('Frequency as a Percentage')\n",
    "ax.set_title('Frequency of Movies Premiered Per Month')\n",
    "\n",
    "#create legend\n",
    "ax.legend([\"Other 5683 Movies\", \"Top 100 Movies\"], loc=0)\n",
    "\n",
    "#save graphs\n",
    "plt.savefig('./images/Frequency of Movies Premiered Per Month.jpeg', bbox_inches = 'tight')\n",
    "plt.savefig('./images/Frequency of Movies Premiered Per Month.png', bbox_inches = 'tight');"
   ]
  },
  {
   "cell_type": "markdown",
   "metadata": {},
   "source": [
    "### Findings/ Recommendation: "
   ]
  },
  {
   "cell_type": "markdown",
   "metadata": {},
   "source": [
    "A much higher percentage of the top 100 gross movies premeried in May, June, July, November and December, which makes sense given the summer months and before the holidays are popular months to go out. \n",
    "\n",
    "The movies not in the top 100 are much more evenly distributed throughout the year. \n",
    "\n",
    "My recommendation would be to premiere your movies over the summer or before the holidays in order to have a larger audience. "
   ]
  },
  {
   "cell_type": "markdown",
   "metadata": {},
   "source": [
    "## Production Budget vs. Net Profit (TN)"
   ]
  },
  {
   "cell_type": "markdown",
   "metadata": {},
   "source": [
    "For this variable, I used the same TN data that was used for the movie premiere date, so the data is already prepared and ready to explore. "
   ]
  },
  {
   "cell_type": "markdown",
   "metadata": {},
   "source": [
    "### Data Exploration:"
   ]
  },
  {
   "cell_type": "code",
   "execution_count": 33,
   "metadata": {
    "scrolled": true
   },
   "outputs": [
    {
     "data": {
      "image/png": "[encoded data removed]",
      "text/plain": [
       "<Figure size 720x288 with 1 Axes>"
      ]
     },
     "metadata": {
      "needs_background": "light"
     },
     "output_type": "display_data"
    }
   ],
   "source": [
    "#graph production budget vs net profit\n",
    "fig, ax = plt.subplots (figsize = (10, 4))\n",
    "ax.scatter(tn['PB_clean'], tn['net_profit'], alpha = 0.3)\n",
    "\n",
    "#label the graph and axis\n",
    "ax.set_title('Production Budget vs. Net Profit')\n",
    "ax.set_xlabel('Production Budget')\n",
    "ax.set_ylabel('Net Profit')\n",
    "\n",
    "#format axis\n",
    "plt.ticklabel_format(style='plain', axis = 'x')\n",
    "plt.ticklabel_format(style='plain', axis = 'y')\n",
    "\n",
    "#add $ and commas to the axis labels\n",
    "ax.xaxis.set_major_formatter('${x:,.0f}')\n",
    "ax.yaxis.set_major_formatter('${x:,.0f}')\n",
    "\n",
    "#create the best fit line \n",
    "x=tn['PB_clean']\n",
    "y=tn['net_profit']\n",
    "m, b = np.polyfit(x,y,1)\n",
    "plt.plot(x, m*x + b, c=\"red\")\n",
    "plt.legend(['Return On Investment'])\n",
    "\n",
    "#save graphs\n",
    "plt.savefig('./images/Production Budget vs. Net Profit.jpeg', bbox_inches = 'tight')\n",
    "plt.savefig('./images/Production Budget vs. Net Profit.png', bbox_inches = 'tight');"
   ]
  },
  {
   "cell_type": "code",
   "execution_count": 36,
   "metadata": {},
   "outputs": [
    {
     "data": {
      "text/plain": [
       "0.6087521471718846"
      ]
     },
     "execution_count": 36,
     "metadata": {},
     "output_type": "execute_result"
    }
   ],
   "source": [
    "#calculate the Correlation Coefficient \n",
    "np.corrcoef(tn['PB_clean'], y = tn['net_profit'])[0][1]"
   ]
  },
  {
   "cell_type": "markdown",
   "metadata": {},
   "source": [
    "### Findings/ Recommendation: "
   ]
  },
  {
   "cell_type": "markdown",
   "metadata": {},
   "source": [
    "There is a moderately positive correlation between the production budget and the movie's net profit, however this is not an absolute. \n",
    "Once the production budget gets above 50m, the chances of making a higher net profit increases, as we can see from the best fit line. "
   ]
  },
  {
   "cell_type": "markdown",
   "metadata": {},
   "source": [
    "### Conclusion: "
   ]
  },
  {
   "cell_type": "markdown",
   "metadata": {},
   "source": [
    "Runtime: Most movies are between 90-140 minutes, however, because the runtime of the movie does not have a strong correlation to the sucess of the movie, Microsoft can choose to make the movie as long as they want without too much concern.   \n",
    "\n",
    "Premiere date: A much higher percentage of the top 100 gross movies premeried in May, June, July, November and December, compared to the rest of the movies which premiered in a more even distribution throughout the year. Therefore, Microsoft should premiere their movies over the summer or before the holidays. \n",
    "\n",
    "Production budget: There is a positive correlation between the production budget and the movie's net profit, however this is not an absolute. Once the production budget gets above 50m, the chances of making a higher net profit increases, as we can see from the best fit line. "
   ]
  },
  {
   "cell_type": "markdown",
   "metadata": {},
   "source": [
    "### Next Steps: "
   ]
  },
  {
   "cell_type": "markdown",
   "metadata": {},
   "source": [
    "To further analysis how the production budget relates to net profit, it would be helpful to break the production budgets into bins (0-10M, 10-25M, 25-50M, etc) and calculate the mean of each budget as it relates to the mean net profit. \n",
    "\n",
    "Another helpful factor to analyze would be which genres of movies that have the highest net profit. \n",
    "\n",
    "Lastly, as discussed above, ancillary revenue has a big impact on net profit so analyzing the ancillary revenue of movies would be another helpful data point for Microsoft. "
   ]
  },
  {
   "cell_type": "code",
   "execution_count": null,
   "metadata": {},
   "outputs": [],
   "source": []
  }
 ],
 "metadata": {
  "kernelspec": {
   "display_name": "Python 3",
   "language": "python",
   "name": "python3"
  },
  "language_info": {
   "codemirror_mode": {
    "name": "ipython",
    "version": 3
   },
   "file_extension": ".py",
   "mimetype": "text/x-python",
   "name": "python",
   "nbconvert_exporter": "python",
   "pygments_lexer": "ipython3",
   "version": "3.8.5"
  }
 },
 "nbformat": 4,
 "nbformat_minor": 4
}

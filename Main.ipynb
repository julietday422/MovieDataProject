{
 "cells": [
  {
   "cell_type": "code",
   "execution_count": 1,
   "metadata": {},
   "outputs": [],
   "source": [
    "# Import standard packages\n",
    "import pandas as pd\n",
    "import numpy as np\n",
    "import matplotlib.pyplot as plt\n",
    "import seaborn as sns\n",
    "\n",
    "%matplotlib inline"
   ]
  },
  {
   "cell_type": "markdown",
   "metadata": {},
   "source": [
    "## Runtime vs. Revenue (TMDB)"
   ]
  },
  {
   "cell_type": "code",
   "execution_count": 2,
   "metadata": {},
   "outputs": [],
   "source": [
    "#import the data\n",
    "tmdb = pd.read_csv('zippedData/tmdb_5000_movies.csv')"
   ]
  },
  {
   "cell_type": "code",
   "execution_count": 3,
   "metadata": {
    "scrolled": true
   },
   "outputs": [
    {
     "data": {
      "text/html": [
       "<div>\n",
       "<style scoped>\n",
       "    .dataframe tbody tr th:only-of-type {\n",
       "        vertical-align: middle;\n",
       "    }\n",
       "\n",
       "    .dataframe tbody tr th {\n",
       "        vertical-align: top;\n",
       "    }\n",
       "\n",
       "    .dataframe thead th {\n",
       "        text-align: right;\n",
       "    }\n",
       "</style>\n",
       "<table border=\"1\" class=\"dataframe\">\n",
       "  <thead>\n",
       "    <tr style=\"text-align: right;\">\n",
       "      <th></th>\n",
       "      <th>budget</th>\n",
       "      <th>genres</th>\n",
       "      <th>homepage</th>\n",
       "      <th>id</th>\n",
       "      <th>keywords</th>\n",
       "      <th>original_language</th>\n",
       "      <th>original_title</th>\n",
       "      <th>overview</th>\n",
       "      <th>popularity</th>\n",
       "      <th>production_companies</th>\n",
       "      <th>production_countries</th>\n",
       "      <th>release_date</th>\n",
       "      <th>revenue</th>\n",
       "      <th>runtime</th>\n",
       "      <th>spoken_languages</th>\n",
       "      <th>status</th>\n",
       "      <th>tagline</th>\n",
       "      <th>title</th>\n",
       "      <th>vote_average</th>\n",
       "      <th>vote_count</th>\n",
       "    </tr>\n",
       "  </thead>\n",
       "  <tbody>\n",
       "    <tr>\n",
       "      <th>0</th>\n",
       "      <td>237000000</td>\n",
       "      <td>[{\"id\": 28, \"name\": \"Action\"}, {\"id\": 12, \"nam...</td>\n",
       "      <td>http://www.avatarmovie.com/</td>\n",
       "      <td>19995</td>\n",
       "      <td>[{\"id\": 1463, \"name\": \"culture clash\"}, {\"id\":...</td>\n",
       "      <td>en</td>\n",
       "      <td>Avatar</td>\n",
       "      <td>In the 22nd century, a paraplegic Marine is di...</td>\n",
       "      <td>150.437577</td>\n",
       "      <td>[{\"name\": \"Ingenious Film Partners\", \"id\": 289...</td>\n",
       "      <td>[{\"iso_3166_1\": \"US\", \"name\": \"United States o...</td>\n",
       "      <td>2009-12-10</td>\n",
       "      <td>2787965087</td>\n",
       "      <td>162.0</td>\n",
       "      <td>[{\"iso_639_1\": \"en\", \"name\": \"English\"}, {\"iso...</td>\n",
       "      <td>Released</td>\n",
       "      <td>Enter the World of Pandora.</td>\n",
       "      <td>Avatar</td>\n",
       "      <td>7.2</td>\n",
       "      <td>11800</td>\n",
       "    </tr>\n",
       "    <tr>\n",
       "      <th>1</th>\n",
       "      <td>300000000</td>\n",
       "      <td>[{\"id\": 12, \"name\": \"Adventure\"}, {\"id\": 14, \"...</td>\n",
       "      <td>http://disney.go.com/disneypictures/pirates/</td>\n",
       "      <td>285</td>\n",
       "      <td>[{\"id\": 270, \"name\": \"ocean\"}, {\"id\": 726, \"na...</td>\n",
       "      <td>en</td>\n",
       "      <td>Pirates of the Caribbean: At World's End</td>\n",
       "      <td>Captain Barbossa, long believed to be dead, ha...</td>\n",
       "      <td>139.082615</td>\n",
       "      <td>[{\"name\": \"Walt Disney Pictures\", \"id\": 2}, {\"...</td>\n",
       "      <td>[{\"iso_3166_1\": \"US\", \"name\": \"United States o...</td>\n",
       "      <td>2007-05-19</td>\n",
       "      <td>961000000</td>\n",
       "      <td>169.0</td>\n",
       "      <td>[{\"iso_639_1\": \"en\", \"name\": \"English\"}]</td>\n",
       "      <td>Released</td>\n",
       "      <td>At the end of the world, the adventure begins.</td>\n",
       "      <td>Pirates of the Caribbean: At World's End</td>\n",
       "      <td>6.9</td>\n",
       "      <td>4500</td>\n",
       "    </tr>\n",
       "    <tr>\n",
       "      <th>2</th>\n",
       "      <td>245000000</td>\n",
       "      <td>[{\"id\": 28, \"name\": \"Action\"}, {\"id\": 12, \"nam...</td>\n",
       "      <td>http://www.sonypictures.com/movies/spectre/</td>\n",
       "      <td>206647</td>\n",
       "      <td>[{\"id\": 470, \"name\": \"spy\"}, {\"id\": 818, \"name...</td>\n",
       "      <td>en</td>\n",
       "      <td>Spectre</td>\n",
       "      <td>A cryptic message from Bond’s past sends him o...</td>\n",
       "      <td>107.376788</td>\n",
       "      <td>[{\"name\": \"Columbia Pictures\", \"id\": 5}, {\"nam...</td>\n",
       "      <td>[{\"iso_3166_1\": \"GB\", \"name\": \"United Kingdom\"...</td>\n",
       "      <td>2015-10-26</td>\n",
       "      <td>880674609</td>\n",
       "      <td>148.0</td>\n",
       "      <td>[{\"iso_639_1\": \"fr\", \"name\": \"Fran\\u00e7ais\"},...</td>\n",
       "      <td>Released</td>\n",
       "      <td>A Plan No One Escapes</td>\n",
       "      <td>Spectre</td>\n",
       "      <td>6.3</td>\n",
       "      <td>4466</td>\n",
       "    </tr>\n",
       "    <tr>\n",
       "      <th>3</th>\n",
       "      <td>250000000</td>\n",
       "      <td>[{\"id\": 28, \"name\": \"Action\"}, {\"id\": 80, \"nam...</td>\n",
       "      <td>http://www.thedarkknightrises.com/</td>\n",
       "      <td>49026</td>\n",
       "      <td>[{\"id\": 849, \"name\": \"dc comics\"}, {\"id\": 853,...</td>\n",
       "      <td>en</td>\n",
       "      <td>The Dark Knight Rises</td>\n",
       "      <td>Following the death of District Attorney Harve...</td>\n",
       "      <td>112.312950</td>\n",
       "      <td>[{\"name\": \"Legendary Pictures\", \"id\": 923}, {\"...</td>\n",
       "      <td>[{\"iso_3166_1\": \"US\", \"name\": \"United States o...</td>\n",
       "      <td>2012-07-16</td>\n",
       "      <td>1084939099</td>\n",
       "      <td>165.0</td>\n",
       "      <td>[{\"iso_639_1\": \"en\", \"name\": \"English\"}]</td>\n",
       "      <td>Released</td>\n",
       "      <td>The Legend Ends</td>\n",
       "      <td>The Dark Knight Rises</td>\n",
       "      <td>7.6</td>\n",
       "      <td>9106</td>\n",
       "    </tr>\n",
       "    <tr>\n",
       "      <th>4</th>\n",
       "      <td>260000000</td>\n",
       "      <td>[{\"id\": 28, \"name\": \"Action\"}, {\"id\": 12, \"nam...</td>\n",
       "      <td>http://movies.disney.com/john-carter</td>\n",
       "      <td>49529</td>\n",
       "      <td>[{\"id\": 818, \"name\": \"based on novel\"}, {\"id\":...</td>\n",
       "      <td>en</td>\n",
       "      <td>John Carter</td>\n",
       "      <td>John Carter is a war-weary, former military ca...</td>\n",
       "      <td>43.926995</td>\n",
       "      <td>[{\"name\": \"Walt Disney Pictures\", \"id\": 2}]</td>\n",
       "      <td>[{\"iso_3166_1\": \"US\", \"name\": \"United States o...</td>\n",
       "      <td>2012-03-07</td>\n",
       "      <td>284139100</td>\n",
       "      <td>132.0</td>\n",
       "      <td>[{\"iso_639_1\": \"en\", \"name\": \"English\"}]</td>\n",
       "      <td>Released</td>\n",
       "      <td>Lost in our world, found in another.</td>\n",
       "      <td>John Carter</td>\n",
       "      <td>6.1</td>\n",
       "      <td>2124</td>\n",
       "    </tr>\n",
       "  </tbody>\n",
       "</table>\n",
       "</div>"
      ],
      "text/plain": [
       "      budget                                             genres  \\\n",
       "0  237000000  [{\"id\": 28, \"name\": \"Action\"}, {\"id\": 12, \"nam...   \n",
       "1  300000000  [{\"id\": 12, \"name\": \"Adventure\"}, {\"id\": 14, \"...   \n",
       "2  245000000  [{\"id\": 28, \"name\": \"Action\"}, {\"id\": 12, \"nam...   \n",
       "3  250000000  [{\"id\": 28, \"name\": \"Action\"}, {\"id\": 80, \"nam...   \n",
       "4  260000000  [{\"id\": 28, \"name\": \"Action\"}, {\"id\": 12, \"nam...   \n",
       "\n",
       "                                       homepage      id  \\\n",
       "0                   http://www.avatarmovie.com/   19995   \n",
       "1  http://disney.go.com/disneypictures/pirates/     285   \n",
       "2   http://www.sonypictures.com/movies/spectre/  206647   \n",
       "3            http://www.thedarkknightrises.com/   49026   \n",
       "4          http://movies.disney.com/john-carter   49529   \n",
       "\n",
       "                                            keywords original_language  \\\n",
       "0  [{\"id\": 1463, \"name\": \"culture clash\"}, {\"id\":...                en   \n",
       "1  [{\"id\": 270, \"name\": \"ocean\"}, {\"id\": 726, \"na...                en   \n",
       "2  [{\"id\": 470, \"name\": \"spy\"}, {\"id\": 818, \"name...                en   \n",
       "3  [{\"id\": 849, \"name\": \"dc comics\"}, {\"id\": 853,...                en   \n",
       "4  [{\"id\": 818, \"name\": \"based on novel\"}, {\"id\":...                en   \n",
       "\n",
       "                             original_title  \\\n",
       "0                                    Avatar   \n",
       "1  Pirates of the Caribbean: At World's End   \n",
       "2                                   Spectre   \n",
       "3                     The Dark Knight Rises   \n",
       "4                               John Carter   \n",
       "\n",
       "                                            overview  popularity  \\\n",
       "0  In the 22nd century, a paraplegic Marine is di...  150.437577   \n",
       "1  Captain Barbossa, long believed to be dead, ha...  139.082615   \n",
       "2  A cryptic message from Bond’s past sends him o...  107.376788   \n",
       "3  Following the death of District Attorney Harve...  112.312950   \n",
       "4  John Carter is a war-weary, former military ca...   43.926995   \n",
       "\n",
       "                                production_companies  \\\n",
       "0  [{\"name\": \"Ingenious Film Partners\", \"id\": 289...   \n",
       "1  [{\"name\": \"Walt Disney Pictures\", \"id\": 2}, {\"...   \n",
       "2  [{\"name\": \"Columbia Pictures\", \"id\": 5}, {\"nam...   \n",
       "3  [{\"name\": \"Legendary Pictures\", \"id\": 923}, {\"...   \n",
       "4        [{\"name\": \"Walt Disney Pictures\", \"id\": 2}]   \n",
       "\n",
       "                                production_countries release_date     revenue  \\\n",
       "0  [{\"iso_3166_1\": \"US\", \"name\": \"United States o...   2009-12-10  2787965087   \n",
       "1  [{\"iso_3166_1\": \"US\", \"name\": \"United States o...   2007-05-19   961000000   \n",
       "2  [{\"iso_3166_1\": \"GB\", \"name\": \"United Kingdom\"...   2015-10-26   880674609   \n",
       "3  [{\"iso_3166_1\": \"US\", \"name\": \"United States o...   2012-07-16  1084939099   \n",
       "4  [{\"iso_3166_1\": \"US\", \"name\": \"United States o...   2012-03-07   284139100   \n",
       "\n",
       "   runtime                                   spoken_languages    status  \\\n",
       "0    162.0  [{\"iso_639_1\": \"en\", \"name\": \"English\"}, {\"iso...  Released   \n",
       "1    169.0           [{\"iso_639_1\": \"en\", \"name\": \"English\"}]  Released   \n",
       "2    148.0  [{\"iso_639_1\": \"fr\", \"name\": \"Fran\\u00e7ais\"},...  Released   \n",
       "3    165.0           [{\"iso_639_1\": \"en\", \"name\": \"English\"}]  Released   \n",
       "4    132.0           [{\"iso_639_1\": \"en\", \"name\": \"English\"}]  Released   \n",
       "\n",
       "                                          tagline  \\\n",
       "0                     Enter the World of Pandora.   \n",
       "1  At the end of the world, the adventure begins.   \n",
       "2                           A Plan No One Escapes   \n",
       "3                                 The Legend Ends   \n",
       "4            Lost in our world, found in another.   \n",
       "\n",
       "                                      title  vote_average  vote_count  \n",
       "0                                    Avatar           7.2       11800  \n",
       "1  Pirates of the Caribbean: At World's End           6.9        4500  \n",
       "2                                   Spectre           6.3        4466  \n",
       "3                     The Dark Knight Rises           7.6        9106  \n",
       "4                               John Carter           6.1        2124  "
      ]
     },
     "execution_count": 3,
     "metadata": {},
     "output_type": "execute_result"
    }
   ],
   "source": [
    "#look at the data\n",
    "tmdb.head()"
   ]
  },
  {
   "cell_type": "code",
   "execution_count": 4,
   "metadata": {},
   "outputs": [
    {
     "data": {
      "text/html": [
       "<div>\n",
       "<style scoped>\n",
       "    .dataframe tbody tr th:only-of-type {\n",
       "        vertical-align: middle;\n",
       "    }\n",
       "\n",
       "    .dataframe tbody tr th {\n",
       "        vertical-align: top;\n",
       "    }\n",
       "\n",
       "    .dataframe thead th {\n",
       "        text-align: right;\n",
       "    }\n",
       "</style>\n",
       "<table border=\"1\" class=\"dataframe\">\n",
       "  <thead>\n",
       "    <tr style=\"text-align: right;\">\n",
       "      <th></th>\n",
       "      <th>revenue</th>\n",
       "      <th>runtime</th>\n",
       "      <th>title</th>\n",
       "    </tr>\n",
       "  </thead>\n",
       "  <tbody>\n",
       "    <tr>\n",
       "      <th>0</th>\n",
       "      <td>2787965087</td>\n",
       "      <td>162.0</td>\n",
       "      <td>Avatar</td>\n",
       "    </tr>\n",
       "    <tr>\n",
       "      <th>1</th>\n",
       "      <td>961000000</td>\n",
       "      <td>169.0</td>\n",
       "      <td>Pirates of the Caribbean: At World's End</td>\n",
       "    </tr>\n",
       "    <tr>\n",
       "      <th>2</th>\n",
       "      <td>880674609</td>\n",
       "      <td>148.0</td>\n",
       "      <td>Spectre</td>\n",
       "    </tr>\n",
       "    <tr>\n",
       "      <th>3</th>\n",
       "      <td>1084939099</td>\n",
       "      <td>165.0</td>\n",
       "      <td>The Dark Knight Rises</td>\n",
       "    </tr>\n",
       "    <tr>\n",
       "      <th>4</th>\n",
       "      <td>284139100</td>\n",
       "      <td>132.0</td>\n",
       "      <td>John Carter</td>\n",
       "    </tr>\n",
       "    <tr>\n",
       "      <th>...</th>\n",
       "      <td>...</td>\n",
       "      <td>...</td>\n",
       "      <td>...</td>\n",
       "    </tr>\n",
       "    <tr>\n",
       "      <th>4798</th>\n",
       "      <td>2040920</td>\n",
       "      <td>81.0</td>\n",
       "      <td>El Mariachi</td>\n",
       "    </tr>\n",
       "    <tr>\n",
       "      <th>4799</th>\n",
       "      <td>0</td>\n",
       "      <td>85.0</td>\n",
       "      <td>Newlyweds</td>\n",
       "    </tr>\n",
       "    <tr>\n",
       "      <th>4800</th>\n",
       "      <td>0</td>\n",
       "      <td>120.0</td>\n",
       "      <td>Signed, Sealed, Delivered</td>\n",
       "    </tr>\n",
       "    <tr>\n",
       "      <th>4801</th>\n",
       "      <td>0</td>\n",
       "      <td>98.0</td>\n",
       "      <td>Shanghai Calling</td>\n",
       "    </tr>\n",
       "    <tr>\n",
       "      <th>4802</th>\n",
       "      <td>0</td>\n",
       "      <td>90.0</td>\n",
       "      <td>My Date with Drew</td>\n",
       "    </tr>\n",
       "  </tbody>\n",
       "</table>\n",
       "<p>4803 rows × 3 columns</p>\n",
       "</div>"
      ],
      "text/plain": [
       "         revenue  runtime                                     title\n",
       "0     2787965087    162.0                                    Avatar\n",
       "1      961000000    169.0  Pirates of the Caribbean: At World's End\n",
       "2      880674609    148.0                                   Spectre\n",
       "3     1084939099    165.0                     The Dark Knight Rises\n",
       "4      284139100    132.0                               John Carter\n",
       "...          ...      ...                                       ...\n",
       "4798     2040920     81.0                               El Mariachi\n",
       "4799           0     85.0                                 Newlyweds\n",
       "4800           0    120.0                 Signed, Sealed, Delivered\n",
       "4801           0     98.0                          Shanghai Calling\n",
       "4802           0     90.0                         My Date with Drew\n",
       "\n",
       "[4803 rows x 3 columns]"
      ]
     },
     "execution_count": 4,
     "metadata": {},
     "output_type": "execute_result"
    }
   ],
   "source": [
    "#Dropping the unnecessary columns\n",
    "tmdb_new= tmdb.drop(columns=[\"budget\", \"release_date\", \"genres\", \"tagline\", \"id\", \"keywords\", \"popularity\", \"homepage\", \"original_language\", \"original_title\", \"overview\", \"production_companies\", \"production_countries\", \"spoken_languages\", \"status\", \"vote_average\", \"vote_count\"])\n",
    "tmdb_new"
   ]
  },
  {
   "cell_type": "code",
   "execution_count": 5,
   "metadata": {},
   "outputs": [
    {
     "data": {
      "text/plain": [
       "revenue    0\n",
       "runtime    2\n",
       "title      0\n",
       "dtype: int64"
      ]
     },
     "execution_count": 5,
     "metadata": {},
     "output_type": "execute_result"
    }
   ],
   "source": [
    "#check for null values\n",
    "tmdb_new.isna().sum()"
   ]
  },
  {
   "cell_type": "code",
   "execution_count": 6,
   "metadata": {
    "scrolled": true
   },
   "outputs": [],
   "source": [
    "#drop rows with null values\n",
    "tmdb_new.dropna(inplace=True)"
   ]
  },
  {
   "cell_type": "markdown",
   "metadata": {},
   "source": [
    "Because there are only 2 null values out of 4,803, it is a safe assuption that dropping those two rows will not change our data. "
   ]
  },
  {
   "cell_type": "code",
   "execution_count": 7,
   "metadata": {},
   "outputs": [
    {
     "data": {
      "text/plain": [
       "revenue    0\n",
       "runtime    0\n",
       "title      0\n",
       "dtype: int64"
      ]
     },
     "execution_count": 7,
     "metadata": {},
     "output_type": "execute_result"
    }
   ],
   "source": [
    "#sanity check- make sure the null values have been dropped\n",
    "tmdb_new.isnull().sum()"
   ]
  },
  {
   "cell_type": "code",
   "execution_count": 61,
   "metadata": {
    "scrolled": true
   },
   "outputs": [],
   "source": [
    "#look at the data\n",
    "tmdb_new.info()"
   ]
  },
  {
   "cell_type": "code",
   "execution_count": 9,
   "metadata": {},
   "outputs": [],
   "source": [
    "#drop rows that have values of 0 for revenue or runtime, as these values are the same as nulls\n",
    "tmdb_new.drop(tmdb_new.query('revenue == 0').index, inplace=True)\n",
    "tmdb_new.drop(tmdb_new.query('runtime == 0').index, inplace=True)"
   ]
  },
  {
   "cell_type": "code",
   "execution_count": 10,
   "metadata": {},
   "outputs": [
    {
     "name": "stdout",
     "output_type": "stream",
     "text": [
      "<class 'pandas.core.frame.DataFrame'>\n",
      "Int64Index: 3375 entries, 0 to 4798\n",
      "Data columns (total 3 columns):\n",
      " #   Column   Non-Null Count  Dtype  \n",
      "---  ------   --------------  -----  \n",
      " 0   revenue  3375 non-null   int64  \n",
      " 1   runtime  3375 non-null   float64\n",
      " 2   title    3375 non-null   object \n",
      "dtypes: float64(1), int64(1), object(1)\n",
      "memory usage: 105.5+ KB\n"
     ]
    }
   ],
   "source": [
    "#sanity check- make sure the rows with values of 0 have have been dropped\n",
    "tmdb_new.info()"
   ]
  },
  {
   "cell_type": "markdown",
   "metadata": {},
   "source": [
    "### We now have 3375 entries as opposed to the 4801 above"
   ]
  },
  {
   "cell_type": "code",
   "execution_count": 11,
   "metadata": {},
   "outputs": [],
   "source": [
    "#pull out the top 100 movies by revenue \n",
    "top_100_revenue = tmdb_new.sort_values(by='revenue', ascending=False)[:100]"
   ]
  },
  {
   "cell_type": "code",
   "execution_count": 12,
   "metadata": {},
   "outputs": [
    {
     "data": {
      "text/html": [
       "<div>\n",
       "<style scoped>\n",
       "    .dataframe tbody tr th:only-of-type {\n",
       "        vertical-align: middle;\n",
       "    }\n",
       "\n",
       "    .dataframe tbody tr th {\n",
       "        vertical-align: top;\n",
       "    }\n",
       "\n",
       "    .dataframe thead th {\n",
       "        text-align: right;\n",
       "    }\n",
       "</style>\n",
       "<table border=\"1\" class=\"dataframe\">\n",
       "  <thead>\n",
       "    <tr style=\"text-align: right;\">\n",
       "      <th></th>\n",
       "      <th>revenue</th>\n",
       "      <th>runtime</th>\n",
       "      <th>title</th>\n",
       "    </tr>\n",
       "  </thead>\n",
       "  <tbody>\n",
       "    <tr>\n",
       "      <th>0</th>\n",
       "      <td>2787965087</td>\n",
       "      <td>162.0</td>\n",
       "      <td>Avatar</td>\n",
       "    </tr>\n",
       "    <tr>\n",
       "      <th>25</th>\n",
       "      <td>1845034188</td>\n",
       "      <td>194.0</td>\n",
       "      <td>Titanic</td>\n",
       "    </tr>\n",
       "    <tr>\n",
       "      <th>16</th>\n",
       "      <td>1519557910</td>\n",
       "      <td>143.0</td>\n",
       "      <td>The Avengers</td>\n",
       "    </tr>\n",
       "    <tr>\n",
       "      <th>28</th>\n",
       "      <td>1513528810</td>\n",
       "      <td>124.0</td>\n",
       "      <td>Jurassic World</td>\n",
       "    </tr>\n",
       "    <tr>\n",
       "      <th>44</th>\n",
       "      <td>1506249360</td>\n",
       "      <td>137.0</td>\n",
       "      <td>Furious 7</td>\n",
       "    </tr>\n",
       "  </tbody>\n",
       "</table>\n",
       "</div>"
      ],
      "text/plain": [
       "       revenue  runtime           title\n",
       "0   2787965087    162.0          Avatar\n",
       "25  1845034188    194.0         Titanic\n",
       "16  1519557910    143.0    The Avengers\n",
       "28  1513528810    124.0  Jurassic World\n",
       "44  1506249360    137.0       Furious 7"
      ]
     },
     "execution_count": 12,
     "metadata": {},
     "output_type": "execute_result"
    }
   ],
   "source": [
    "#look at the data\n",
    "top_100_revenue.head()"
   ]
  },
  {
   "cell_type": "code",
   "execution_count": 13,
   "metadata": {
    "scrolled": false
   },
   "outputs": [],
   "source": [
    "#sort the rest of the data by revenue\n",
    "other_3275_revenue = tmdb_new.sort_values(by='revenue', ascending=False)[100:]"
   ]
  },
  {
   "cell_type": "code",
   "execution_count": 14,
   "metadata": {},
   "outputs": [
    {
     "data": {
      "text/html": [
       "<div>\n",
       "<style scoped>\n",
       "    .dataframe tbody tr th:only-of-type {\n",
       "        vertical-align: middle;\n",
       "    }\n",
       "\n",
       "    .dataframe tbody tr th {\n",
       "        vertical-align: top;\n",
       "    }\n",
       "\n",
       "    .dataframe thead th {\n",
       "        text-align: right;\n",
       "    }\n",
       "</style>\n",
       "<table border=\"1\" class=\"dataframe\">\n",
       "  <thead>\n",
       "    <tr style=\"text-align: right;\">\n",
       "      <th></th>\n",
       "      <th>revenue</th>\n",
       "      <th>runtime</th>\n",
       "      <th>title</th>\n",
       "    </tr>\n",
       "  </thead>\n",
       "  <tbody>\n",
       "    <tr>\n",
       "      <th>79</th>\n",
       "      <td>623933331</td>\n",
       "      <td>124.0</td>\n",
       "      <td>Iron Man 2</td>\n",
       "    </tr>\n",
       "    <tr>\n",
       "      <th>118</th>\n",
       "      <td>623722818</td>\n",
       "      <td>111.0</td>\n",
       "      <td>Ratatouille</td>\n",
       "    </tr>\n",
       "    <tr>\n",
       "      <th>1810</th>\n",
       "      <td>611899420</td>\n",
       "      <td>127.0</td>\n",
       "      <td>The Passion of the Christ</td>\n",
       "    </tr>\n",
       "    <tr>\n",
       "      <th>886</th>\n",
       "      <td>609841637</td>\n",
       "      <td>108.0</td>\n",
       "      <td>Mamma Mia!</td>\n",
       "    </tr>\n",
       "    <tr>\n",
       "      <th>160</th>\n",
       "      <td>609123048</td>\n",
       "      <td>102.0</td>\n",
       "      <td>How to Train Your Dragon 2</td>\n",
       "    </tr>\n",
       "  </tbody>\n",
       "</table>\n",
       "</div>"
      ],
      "text/plain": [
       "        revenue  runtime                       title\n",
       "79    623933331    124.0                  Iron Man 2\n",
       "118   623722818    111.0                 Ratatouille\n",
       "1810  611899420    127.0   The Passion of the Christ\n",
       "886   609841637    108.0                  Mamma Mia!\n",
       "160   609123048    102.0  How to Train Your Dragon 2"
      ]
     },
     "execution_count": 14,
     "metadata": {},
     "output_type": "execute_result"
    }
   ],
   "source": [
    "#look at the data\n",
    "other_3275_revenue.head()"
   ]
  },
  {
   "cell_type": "code",
   "execution_count": 15,
   "metadata": {},
   "outputs": [
    {
     "data": {
      "text/plain": [
       "<AxesSubplot:xlabel='runtime', ylabel='revenue'>"
      ]
     },
     "execution_count": 15,
     "metadata": {},
     "output_type": "execute_result"
    },
    {
     "data": {
      "image/png": "[encoded data removed]",
      "text/plain": [
       "<Figure size 432x288 with 1 Axes>"
      ]
     },
     "metadata": {
      "needs_background": "light"
     },
     "output_type": "display_data"
    },
    {
     "data": {
      "image/png": "[encoded data removed]",
      "text/plain": [
       "<Figure size 432x288 with 1 Axes>"
      ]
     },
     "metadata": {
      "needs_background": "light"
     },
     "output_type": "display_data"
    }
   ],
   "source": [
    "#plot the runtimes vs revenue for the top 100 movies and the other 3,275 movies\n",
    "top_100_revenue.plot.scatter(x = 'runtime', y = 'revenue')\n",
    "other_3275_revenue.plot.scatter(x = 'runtime', y = 'revenue')"
   ]
  },
  {
   "cell_type": "markdown",
   "metadata": {},
   "source": [
    "## Release Month vs. World Wide Gross Revenue (TN)"
   ]
  },
  {
   "cell_type": "code",
   "execution_count": 16,
   "metadata": {},
   "outputs": [],
   "source": [
    "#import the data\n",
    "tn = pd.read_csv('zippedData/tn.movie_budgets.csv.gz')"
   ]
  },
  {
   "cell_type": "code",
   "execution_count": 17,
   "metadata": {},
   "outputs": [
    {
     "data": {
      "text/html": [
       "<div>\n",
       "<style scoped>\n",
       "    .dataframe tbody tr th:only-of-type {\n",
       "        vertical-align: middle;\n",
       "    }\n",
       "\n",
       "    .dataframe tbody tr th {\n",
       "        vertical-align: top;\n",
       "    }\n",
       "\n",
       "    .dataframe thead th {\n",
       "        text-align: right;\n",
       "    }\n",
       "</style>\n",
       "<table border=\"1\" class=\"dataframe\">\n",
       "  <thead>\n",
       "    <tr style=\"text-align: right;\">\n",
       "      <th></th>\n",
       "      <th>id</th>\n",
       "      <th>release_date</th>\n",
       "      <th>movie</th>\n",
       "      <th>production_budget</th>\n",
       "      <th>domestic_gross</th>\n",
       "      <th>worldwide_gross</th>\n",
       "    </tr>\n",
       "  </thead>\n",
       "  <tbody>\n",
       "    <tr>\n",
       "      <th>0</th>\n",
       "      <td>1</td>\n",
       "      <td>Dec 18, 2009</td>\n",
       "      <td>Avatar</td>\n",
       "      <td>$425,000,000</td>\n",
       "      <td>$760,507,625</td>\n",
       "      <td>$2,776,345,279</td>\n",
       "    </tr>\n",
       "    <tr>\n",
       "      <th>1</th>\n",
       "      <td>2</td>\n",
       "      <td>May 20, 2011</td>\n",
       "      <td>Pirates of the Caribbean: On Stranger Tides</td>\n",
       "      <td>$410,600,000</td>\n",
       "      <td>$241,063,875</td>\n",
       "      <td>$1,045,663,875</td>\n",
       "    </tr>\n",
       "    <tr>\n",
       "      <th>2</th>\n",
       "      <td>3</td>\n",
       "      <td>Jun 7, 2019</td>\n",
       "      <td>Dark Phoenix</td>\n",
       "      <td>$350,000,000</td>\n",
       "      <td>$42,762,350</td>\n",
       "      <td>$149,762,350</td>\n",
       "    </tr>\n",
       "    <tr>\n",
       "      <th>3</th>\n",
       "      <td>4</td>\n",
       "      <td>May 1, 2015</td>\n",
       "      <td>Avengers: Age of Ultron</td>\n",
       "      <td>$330,600,000</td>\n",
       "      <td>$459,005,868</td>\n",
       "      <td>$1,403,013,963</td>\n",
       "    </tr>\n",
       "    <tr>\n",
       "      <th>4</th>\n",
       "      <td>5</td>\n",
       "      <td>Dec 15, 2017</td>\n",
       "      <td>Star Wars Ep. VIII: The Last Jedi</td>\n",
       "      <td>$317,000,000</td>\n",
       "      <td>$620,181,382</td>\n",
       "      <td>$1,316,721,747</td>\n",
       "    </tr>\n",
       "    <tr>\n",
       "      <th>5</th>\n",
       "      <td>6</td>\n",
       "      <td>Dec 18, 2015</td>\n",
       "      <td>Star Wars Ep. VII: The Force Awakens</td>\n",
       "      <td>$306,000,000</td>\n",
       "      <td>$936,662,225</td>\n",
       "      <td>$2,053,311,220</td>\n",
       "    </tr>\n",
       "    <tr>\n",
       "      <th>6</th>\n",
       "      <td>7</td>\n",
       "      <td>Apr 27, 2018</td>\n",
       "      <td>Avengers: Infinity War</td>\n",
       "      <td>$300,000,000</td>\n",
       "      <td>$678,815,482</td>\n",
       "      <td>$2,048,134,200</td>\n",
       "    </tr>\n",
       "    <tr>\n",
       "      <th>7</th>\n",
       "      <td>8</td>\n",
       "      <td>May 24, 2007</td>\n",
       "      <td>Pirates of the Caribbean: At Worldâs End</td>\n",
       "      <td>$300,000,000</td>\n",
       "      <td>$309,420,425</td>\n",
       "      <td>$963,420,425</td>\n",
       "    </tr>\n",
       "    <tr>\n",
       "      <th>8</th>\n",
       "      <td>9</td>\n",
       "      <td>Nov 17, 2017</td>\n",
       "      <td>Justice League</td>\n",
       "      <td>$300,000,000</td>\n",
       "      <td>$229,024,295</td>\n",
       "      <td>$655,945,209</td>\n",
       "    </tr>\n",
       "    <tr>\n",
       "      <th>9</th>\n",
       "      <td>10</td>\n",
       "      <td>Nov 6, 2015</td>\n",
       "      <td>Spectre</td>\n",
       "      <td>$300,000,000</td>\n",
       "      <td>$200,074,175</td>\n",
       "      <td>$879,620,923</td>\n",
       "    </tr>\n",
       "  </tbody>\n",
       "</table>\n",
       "</div>"
      ],
      "text/plain": [
       "   id  release_date                                        movie  \\\n",
       "0   1  Dec 18, 2009                                       Avatar   \n",
       "1   2  May 20, 2011  Pirates of the Caribbean: On Stranger Tides   \n",
       "2   3   Jun 7, 2019                                 Dark Phoenix   \n",
       "3   4   May 1, 2015                      Avengers: Age of Ultron   \n",
       "4   5  Dec 15, 2017            Star Wars Ep. VIII: The Last Jedi   \n",
       "5   6  Dec 18, 2015         Star Wars Ep. VII: The Force Awakens   \n",
       "6   7  Apr 27, 2018                       Avengers: Infinity War   \n",
       "7   8  May 24, 2007   Pirates of the Caribbean: At Worldâs End   \n",
       "8   9  Nov 17, 2017                               Justice League   \n",
       "9  10   Nov 6, 2015                                      Spectre   \n",
       "\n",
       "  production_budget domestic_gross worldwide_gross  \n",
       "0      $425,000,000   $760,507,625  $2,776,345,279  \n",
       "1      $410,600,000   $241,063,875  $1,045,663,875  \n",
       "2      $350,000,000    $42,762,350    $149,762,350  \n",
       "3      $330,600,000   $459,005,868  $1,403,013,963  \n",
       "4      $317,000,000   $620,181,382  $1,316,721,747  \n",
       "5      $306,000,000   $936,662,225  $2,053,311,220  \n",
       "6      $300,000,000   $678,815,482  $2,048,134,200  \n",
       "7      $300,000,000   $309,420,425    $963,420,425  \n",
       "8      $300,000,000   $229,024,295    $655,945,209  \n",
       "9      $300,000,000   $200,074,175    $879,620,923  "
      ]
     },
     "execution_count": 17,
     "metadata": {},
     "output_type": "execute_result"
    }
   ],
   "source": [
    "#look at the data\n",
    "tn.head(10)"
   ]
  },
  {
   "cell_type": "code",
   "execution_count": 18,
   "metadata": {
    "scrolled": true
   },
   "outputs": [
    {
     "data": {
      "text/plain": [
       "0       12\n",
       "1        5\n",
       "2        6\n",
       "3        5\n",
       "4       12\n",
       "        ..\n",
       "5777    12\n",
       "5778     4\n",
       "5779     7\n",
       "5780     9\n",
       "5781     8\n",
       "Name: release_month, Length: 5782, dtype: int64"
      ]
     },
     "execution_count": 18,
     "metadata": {},
     "output_type": "execute_result"
    }
   ],
   "source": [
    "#separate the month of the movie's release from the rest of the date\n",
    "tn['release_month'] = pd.DatetimeIndex(tn['release_date']).month\n",
    "tn['release_month']"
   ]
  },
  {
   "cell_type": "code",
   "execution_count": 19,
   "metadata": {},
   "outputs": [
    {
     "name": "stdout",
     "output_type": "stream",
     "text": [
      "<class 'pandas.core.frame.DataFrame'>\n",
      "RangeIndex: 5782 entries, 0 to 5781\n",
      "Data columns (total 7 columns):\n",
      " #   Column             Non-Null Count  Dtype \n",
      "---  ------             --------------  ----- \n",
      " 0   id                 5782 non-null   int64 \n",
      " 1   release_date       5782 non-null   object\n",
      " 2   movie              5782 non-null   object\n",
      " 3   production_budget  5782 non-null   object\n",
      " 4   domestic_gross     5782 non-null   object\n",
      " 5   worldwide_gross    5782 non-null   object\n",
      " 6   release_month      5782 non-null   int64 \n",
      "dtypes: int64(2), object(5)\n",
      "memory usage: 316.3+ KB\n"
     ]
    }
   ],
   "source": [
    "#check for null values types of data for each column\n",
    "tn.info()"
   ]
  },
  {
   "cell_type": "markdown",
   "metadata": {},
   "source": [
    "### Here we see there are no null values, this data has been pre- cleaned for nulls"
   ]
  },
  {
   "cell_type": "code",
   "execution_count": 20,
   "metadata": {},
   "outputs": [],
   "source": [
    "#check to see if there are any values of 0 for worldwide gross or release month. \n",
    "#Values of 0 are the same as nulls so the rows will be dropped\n",
    "\n",
    "tn.drop(tn.query('worldwide_gross == 0').index, inplace=True) \n",
    "tn.drop(tn.query('release_month == 0').index, inplace=True)"
   ]
  },
  {
   "cell_type": "code",
   "execution_count": 21,
   "metadata": {},
   "outputs": [
    {
     "name": "stdout",
     "output_type": "stream",
     "text": [
      "<class 'pandas.core.frame.DataFrame'>\n",
      "Int64Index: 5782 entries, 0 to 5781\n",
      "Data columns (total 7 columns):\n",
      " #   Column             Non-Null Count  Dtype \n",
      "---  ------             --------------  ----- \n",
      " 0   id                 5782 non-null   int64 \n",
      " 1   release_date       5782 non-null   object\n",
      " 2   movie              5782 non-null   object\n",
      " 3   production_budget  5782 non-null   object\n",
      " 4   domestic_gross     5782 non-null   object\n",
      " 5   worldwide_gross    5782 non-null   object\n",
      " 6   release_month      5782 non-null   int64 \n",
      "dtypes: int64(2), object(5)\n",
      "memory usage: 521.4+ KB\n"
     ]
    }
   ],
   "source": [
    "#check to see if any rows were dropped \n",
    "tn.info()"
   ]
  },
  {
   "cell_type": "markdown",
   "metadata": {},
   "source": [
    "### This table has the same number of rows, so there werent any values of 0"
   ]
  },
  {
   "cell_type": "markdown",
   "metadata": {},
   "source": [
    "### Here we also see the \"worldwide_gross\" column is type is object.  We need to change it to an integer to be able to graph it "
   ]
  },
  {
   "cell_type": "code",
   "execution_count": 22,
   "metadata": {},
   "outputs": [
    {
     "data": {
      "text/plain": [
       "0       2776345279\n",
       "1       1045663875\n",
       "2        149762350\n",
       "3       1403013963\n",
       "4       1316721747\n",
       "           ...    \n",
       "5777             0\n",
       "5778        240495\n",
       "5779          1338\n",
       "5780             0\n",
       "5781        181041\n",
       "Name: gross_clean, Length: 5782, dtype: int64"
      ]
     },
     "execution_count": 22,
     "metadata": {},
     "output_type": "execute_result"
    }
   ],
   "source": [
    "#change worldwide gross from an object to an int\n",
    "\n",
    "tn['gross_clean'] = tn['worldwide_gross'].str.replace('$','').str.replace(',','')\n",
    "tn['gross_clean'] = pd.to_numeric(tn['gross_clean'])\n",
    "tn['gross_clean']"
   ]
  },
  {
   "cell_type": "markdown",
   "metadata": {},
   "source": [
    "code citation: \n",
    "the code to change the gross revenue from an object to an integer was adapted from:  https://github.com/xiaohua-su/Film-Analysis/blob/main/Analysis_of_Films.ipynb"
   ]
  },
  {
   "cell_type": "code",
   "execution_count": 23,
   "metadata": {},
   "outputs": [
    {
     "name": "stdout",
     "output_type": "stream",
     "text": [
      "<class 'pandas.core.frame.DataFrame'>\n",
      "Int64Index: 5782 entries, 0 to 5781\n",
      "Data columns (total 8 columns):\n",
      " #   Column             Non-Null Count  Dtype \n",
      "---  ------             --------------  ----- \n",
      " 0   id                 5782 non-null   int64 \n",
      " 1   release_date       5782 non-null   object\n",
      " 2   movie              5782 non-null   object\n",
      " 3   production_budget  5782 non-null   object\n",
      " 4   domestic_gross     5782 non-null   object\n",
      " 5   worldwide_gross    5782 non-null   object\n",
      " 6   release_month      5782 non-null   int64 \n",
      " 7   gross_clean        5782 non-null   int64 \n",
      "dtypes: int64(3), object(5)\n",
      "memory usage: 566.5+ KB\n"
     ]
    }
   ],
   "source": [
    "#sanity check- confirm that the gross_clean is an integer\n",
    "tn.info()"
   ]
  },
  {
   "cell_type": "markdown",
   "metadata": {},
   "source": [
    "# A sidenote as to why I used worldwide gross revenue as opposed to the domestic gross revenue"
   ]
  },
  {
   "cell_type": "markdown",
   "metadata": {},
   "source": [
    "### One of the advantages of 21st century technology is that people can watch content that is made in other countries and companies can profit from this. "
   ]
  },
  {
   "cell_type": "markdown",
   "metadata": {},
   "source": [
    "### To illustrate the amount of gross revenue made from movies outside of the U.S, I subtracted worldwide gross from the domestic gross."
   ]
  },
  {
   "cell_type": "code",
   "execution_count": 63,
   "metadata": {},
   "outputs": [
    {
     "data": {
      "text/plain": [
       "0       760507625\n",
       "1       241063875\n",
       "2        42762350\n",
       "3       459005868\n",
       "4       620181382\n",
       "          ...    \n",
       "5777            0\n",
       "5778        48482\n",
       "5779         1338\n",
       "5780            0\n",
       "5781       181041\n",
       "Name: dom_gross_clean, Length: 5781, dtype: int64"
      ]
     },
     "execution_count": 63,
     "metadata": {},
     "output_type": "execute_result"
    }
   ],
   "source": [
    "#change domestic gross from an object to an int\n",
    "tn['dom_gross_clean'] = tn['domestic_gross'].str.replace('$','').str.replace(',','')\n",
    "tn['dom_gross_clean'] = pd.to_numeric(tn['dom_gross_clean'])\n",
    "tn['dom_gross_clean']"
   ]
  },
  {
   "cell_type": "code",
   "execution_count": 64,
   "metadata": {},
   "outputs": [
    {
     "data": {
      "text/plain": [
       "0      2015837654\n",
       "42     1548844451\n",
       "6      1369318718\n",
       "66     1165715774\n",
       "5      1116648995\n",
       "22     1009081502\n",
       "33      996584239\n",
       "260     960500000\n",
       "3       944008095\n",
       "26      894656350\n",
       "112     888053039\n",
       "155     871731901\n",
       "36      858600000\n",
       "672     824290403\n",
       "135     811832833\n",
       "47      806400000\n",
       "51      806166704\n",
       "1       804600000\n",
       "63      771400000\n",
       "629     770103450\n",
       "dtype: int64"
      ]
     },
     "execution_count": 64,
     "metadata": {},
     "output_type": "execute_result"
    }
   ],
   "source": [
    "#calculate foreign gross revenue\n",
    "foreign_gross_revenue = tn[\"gross_clean\"] - tn[\"dom_gross_clean\"]\n",
    "\n",
    "foreign_gross_revenue.sort_values(ascending=False).head(20)"
   ]
  },
  {
   "cell_type": "markdown",
   "metadata": {},
   "source": [
    "As we can see from this data, a lot of revenue is generated from other countries, so limiting our data to just domestic gross may not give us a full picture. "
   ]
  },
  {
   "cell_type": "markdown",
   "metadata": {},
   "source": [
    "### Back to comparing release date to worldwide gross revenue:"
   ]
  },
  {
   "cell_type": "code",
   "execution_count": 65,
   "metadata": {
    "scrolled": true
   },
   "outputs": [
    {
     "data": {
      "text/html": [
       "<div>\n",
       "<style scoped>\n",
       "    .dataframe tbody tr th:only-of-type {\n",
       "        vertical-align: middle;\n",
       "    }\n",
       "\n",
       "    .dataframe tbody tr th {\n",
       "        vertical-align: top;\n",
       "    }\n",
       "\n",
       "    .dataframe thead th {\n",
       "        text-align: right;\n",
       "    }\n",
       "</style>\n",
       "<table border=\"1\" class=\"dataframe\">\n",
       "  <thead>\n",
       "    <tr style=\"text-align: right;\">\n",
       "      <th></th>\n",
       "      <th>id</th>\n",
       "      <th>release_date</th>\n",
       "      <th>movie</th>\n",
       "      <th>production_budget</th>\n",
       "      <th>domestic_gross</th>\n",
       "      <th>worldwide_gross</th>\n",
       "      <th>release_month</th>\n",
       "      <th>gross_clean</th>\n",
       "      <th>dom_gross_clean</th>\n",
       "      <th>p_budget_clean</th>\n",
       "      <th>net_profit</th>\n",
       "      <th>return_on_investment</th>\n",
       "    </tr>\n",
       "  </thead>\n",
       "  <tbody>\n",
       "    <tr>\n",
       "      <th>0</th>\n",
       "      <td>1</td>\n",
       "      <td>Dec 18, 2009</td>\n",
       "      <td>Avatar</td>\n",
       "      <td>$425,000,000</td>\n",
       "      <td>$760,507,625</td>\n",
       "      <td>$2,776,345,279</td>\n",
       "      <td>12</td>\n",
       "      <td>2776345279</td>\n",
       "      <td>760507625</td>\n",
       "      <td>425000000</td>\n",
       "      <td>2351345279</td>\n",
       "      <td>553.257713</td>\n",
       "    </tr>\n",
       "    <tr>\n",
       "      <th>42</th>\n",
       "      <td>43</td>\n",
       "      <td>Dec 19, 1997</td>\n",
       "      <td>Titanic</td>\n",
       "      <td>$200,000,000</td>\n",
       "      <td>$659,363,944</td>\n",
       "      <td>$2,208,208,395</td>\n",
       "      <td>12</td>\n",
       "      <td>2208208395</td>\n",
       "      <td>659363944</td>\n",
       "      <td>200000000</td>\n",
       "      <td>2008208395</td>\n",
       "      <td>1004.104198</td>\n",
       "    </tr>\n",
       "    <tr>\n",
       "      <th>5</th>\n",
       "      <td>6</td>\n",
       "      <td>Dec 18, 2015</td>\n",
       "      <td>Star Wars Ep. VII: The Force Awakens</td>\n",
       "      <td>$306,000,000</td>\n",
       "      <td>$936,662,225</td>\n",
       "      <td>$2,053,311,220</td>\n",
       "      <td>12</td>\n",
       "      <td>2053311220</td>\n",
       "      <td>936662225</td>\n",
       "      <td>306000000</td>\n",
       "      <td>1747311220</td>\n",
       "      <td>571.016739</td>\n",
       "    </tr>\n",
       "    <tr>\n",
       "      <th>6</th>\n",
       "      <td>7</td>\n",
       "      <td>Apr 27, 2018</td>\n",
       "      <td>Avengers: Infinity War</td>\n",
       "      <td>$300,000,000</td>\n",
       "      <td>$678,815,482</td>\n",
       "      <td>$2,048,134,200</td>\n",
       "      <td>4</td>\n",
       "      <td>2048134200</td>\n",
       "      <td>678815482</td>\n",
       "      <td>300000000</td>\n",
       "      <td>1748134200</td>\n",
       "      <td>582.711400</td>\n",
       "    </tr>\n",
       "    <tr>\n",
       "      <th>33</th>\n",
       "      <td>34</td>\n",
       "      <td>Jun 12, 2015</td>\n",
       "      <td>Jurassic World</td>\n",
       "      <td>$215,000,000</td>\n",
       "      <td>$652,270,625</td>\n",
       "      <td>$1,648,854,864</td>\n",
       "      <td>6</td>\n",
       "      <td>1648854864</td>\n",
       "      <td>652270625</td>\n",
       "      <td>215000000</td>\n",
       "      <td>1433854864</td>\n",
       "      <td>666.909239</td>\n",
       "    </tr>\n",
       "    <tr>\n",
       "      <th>...</th>\n",
       "      <td>...</td>\n",
       "      <td>...</td>\n",
       "      <td>...</td>\n",
       "      <td>...</td>\n",
       "      <td>...</td>\n",
       "      <td>...</td>\n",
       "      <td>...</td>\n",
       "      <td>...</td>\n",
       "      <td>...</td>\n",
       "      <td>...</td>\n",
       "      <td>...</td>\n",
       "      <td>...</td>\n",
       "    </tr>\n",
       "    <tr>\n",
       "      <th>54</th>\n",
       "      <td>55</td>\n",
       "      <td>May 23, 2014</td>\n",
       "      <td>X-Men: Days of Future Past</td>\n",
       "      <td>$200,000,000</td>\n",
       "      <td>$233,921,534</td>\n",
       "      <td>$747,862,775</td>\n",
       "      <td>5</td>\n",
       "      <td>747862775</td>\n",
       "      <td>233921534</td>\n",
       "      <td>200000000</td>\n",
       "      <td>547862775</td>\n",
       "      <td>273.931388</td>\n",
       "    </tr>\n",
       "    <tr>\n",
       "      <th>196</th>\n",
       "      <td>97</td>\n",
       "      <td>Jun 8, 2012</td>\n",
       "      <td>Madagascar 3: Europe's Most Wanted</td>\n",
       "      <td>$145,000,000</td>\n",
       "      <td>$216,391,482</td>\n",
       "      <td>$746,921,271</td>\n",
       "      <td>6</td>\n",
       "      <td>746921271</td>\n",
       "      <td>216391482</td>\n",
       "      <td>145000000</td>\n",
       "      <td>601921271</td>\n",
       "      <td>415.118118</td>\n",
       "    </tr>\n",
       "    <tr>\n",
       "      <th>99</th>\n",
       "      <td>100</td>\n",
       "      <td>Aug 5, 2016</td>\n",
       "      <td>Suicide Squad</td>\n",
       "      <td>$175,000,000</td>\n",
       "      <td>$325,100,054</td>\n",
       "      <td>$746,059,887</td>\n",
       "      <td>8</td>\n",
       "      <td>746059887</td>\n",
       "      <td>325100054</td>\n",
       "      <td>175000000</td>\n",
       "      <td>571059887</td>\n",
       "      <td>326.319935</td>\n",
       "    </tr>\n",
       "    <tr>\n",
       "      <th>52</th>\n",
       "      <td>53</td>\n",
       "      <td>Jun 21, 2013</td>\n",
       "      <td>Monsters University</td>\n",
       "      <td>$200,000,000</td>\n",
       "      <td>$268,488,329</td>\n",
       "      <td>$743,588,329</td>\n",
       "      <td>6</td>\n",
       "      <td>743588329</td>\n",
       "      <td>268488329</td>\n",
       "      <td>200000000</td>\n",
       "      <td>543588329</td>\n",
       "      <td>271.794164</td>\n",
       "    </tr>\n",
       "    <tr>\n",
       "      <th>159</th>\n",
       "      <td>60</td>\n",
       "      <td>May 15, 2003</td>\n",
       "      <td>The Matrix Reloaded</td>\n",
       "      <td>$150,000,000</td>\n",
       "      <td>$281,553,689</td>\n",
       "      <td>$738,576,929</td>\n",
       "      <td>5</td>\n",
       "      <td>738576929</td>\n",
       "      <td>281553689</td>\n",
       "      <td>150000000</td>\n",
       "      <td>588576929</td>\n",
       "      <td>392.384619</td>\n",
       "    </tr>\n",
       "  </tbody>\n",
       "</table>\n",
       "<p>100 rows × 12 columns</p>\n",
       "</div>"
      ],
      "text/plain": [
       "      id  release_date                                 movie  \\\n",
       "0      1  Dec 18, 2009                                Avatar   \n",
       "42    43  Dec 19, 1997                               Titanic   \n",
       "5      6  Dec 18, 2015  Star Wars Ep. VII: The Force Awakens   \n",
       "6      7  Apr 27, 2018                Avengers: Infinity War   \n",
       "33    34  Jun 12, 2015                        Jurassic World   \n",
       "..   ...           ...                                   ...   \n",
       "54    55  May 23, 2014            X-Men: Days of Future Past   \n",
       "196   97   Jun 8, 2012    Madagascar 3: Europe's Most Wanted   \n",
       "99   100   Aug 5, 2016                         Suicide Squad   \n",
       "52    53  Jun 21, 2013                   Monsters University   \n",
       "159   60  May 15, 2003                   The Matrix Reloaded   \n",
       "\n",
       "    production_budget domestic_gross worldwide_gross  release_month  \\\n",
       "0        $425,000,000   $760,507,625  $2,776,345,279             12   \n",
       "42       $200,000,000   $659,363,944  $2,208,208,395             12   \n",
       "5        $306,000,000   $936,662,225  $2,053,311,220             12   \n",
       "6        $300,000,000   $678,815,482  $2,048,134,200              4   \n",
       "33       $215,000,000   $652,270,625  $1,648,854,864              6   \n",
       "..                ...            ...             ...            ...   \n",
       "54       $200,000,000   $233,921,534    $747,862,775              5   \n",
       "196      $145,000,000   $216,391,482    $746,921,271              6   \n",
       "99       $175,000,000   $325,100,054    $746,059,887              8   \n",
       "52       $200,000,000   $268,488,329    $743,588,329              6   \n",
       "159      $150,000,000   $281,553,689    $738,576,929              5   \n",
       "\n",
       "     gross_clean  dom_gross_clean  p_budget_clean  net_profit  \\\n",
       "0     2776345279        760507625       425000000  2351345279   \n",
       "42    2208208395        659363944       200000000  2008208395   \n",
       "5     2053311220        936662225       306000000  1747311220   \n",
       "6     2048134200        678815482       300000000  1748134200   \n",
       "33    1648854864        652270625       215000000  1433854864   \n",
       "..           ...              ...             ...         ...   \n",
       "54     747862775        233921534       200000000   547862775   \n",
       "196    746921271        216391482       145000000   601921271   \n",
       "99     746059887        325100054       175000000   571059887   \n",
       "52     743588329        268488329       200000000   543588329   \n",
       "159    738576929        281553689       150000000   588576929   \n",
       "\n",
       "     return_on_investment  \n",
       "0              553.257713  \n",
       "42            1004.104198  \n",
       "5              571.016739  \n",
       "6              582.711400  \n",
       "33             666.909239  \n",
       "..                    ...  \n",
       "54             273.931388  \n",
       "196            415.118118  \n",
       "99             326.319935  \n",
       "52             271.794164  \n",
       "159            392.384619  \n",
       "\n",
       "[100 rows x 12 columns]"
      ]
     },
     "execution_count": 65,
     "metadata": {},
     "output_type": "execute_result"
    }
   ],
   "source": [
    "#pull out the top 100 movies based on worldwide gross revenue \n",
    "tn_top100 = tn.sort_values(by='gross_clean', ascending=False)[:100]\n",
    "tn_top100"
   ]
  },
  {
   "cell_type": "code",
   "execution_count": 66,
   "metadata": {},
   "outputs": [
    {
     "data": {
      "text/plain": [
       "2     0.02\n",
       "3     0.05\n",
       "4     0.04\n",
       "5     0.24\n",
       "6     0.18\n",
       "7     0.16\n",
       "8     0.02\n",
       "10    0.01\n",
       "11    0.15\n",
       "12    0.13\n",
       "Name: release_month, dtype: float64"
      ]
     },
     "execution_count": 66,
     "metadata": {},
     "output_type": "execute_result"
    }
   ],
   "source": [
    "#Get the value counts of how many of the top 100 movies came out each month, as a percentage\n",
    "tn_top100_mc = tn_top100['release_month'].value_counts(normalize = True).sort_index()\n",
    "tn_top100_mc"
   ]
  },
  {
   "cell_type": "code",
   "execution_count": 68,
   "metadata": {},
   "outputs": [
    {
     "data": {
      "text/plain": [
       "array([0.  , 0.02, 0.05, 0.04, 0.24, 0.18, 0.16, 0.02, 0.  , 0.01, 0.15,\n",
       "       0.13])"
      ]
     },
     "execution_count": 68,
     "metadata": {},
     "output_type": "execute_result"
    }
   ],
   "source": [
    "# append the series to have values of 0 listed for the months \n",
    "# that don't have any movies premiered that month (January and September)\n",
    "tn_top100_mc = np.array([0,0.02,0.05,0.04,0.24,0.18,0.16,0.02,0,0.01,0.15,0.13])\n",
    "tn_top100_mc"
   ]
  },
  {
   "cell_type": "code",
   "execution_count": 69,
   "metadata": {},
   "outputs": [
    {
     "data": {
      "text/html": [
       "<div>\n",
       "<style scoped>\n",
       "    .dataframe tbody tr th:only-of-type {\n",
       "        vertical-align: middle;\n",
       "    }\n",
       "\n",
       "    .dataframe tbody tr th {\n",
       "        vertical-align: top;\n",
       "    }\n",
       "\n",
       "    .dataframe thead th {\n",
       "        text-align: right;\n",
       "    }\n",
       "</style>\n",
       "<table border=\"1\" class=\"dataframe\">\n",
       "  <thead>\n",
       "    <tr style=\"text-align: right;\">\n",
       "      <th></th>\n",
       "      <th>id</th>\n",
       "      <th>release_date</th>\n",
       "      <th>movie</th>\n",
       "      <th>production_budget</th>\n",
       "      <th>domestic_gross</th>\n",
       "      <th>worldwide_gross</th>\n",
       "      <th>release_month</th>\n",
       "      <th>gross_clean</th>\n",
       "      <th>dom_gross_clean</th>\n",
       "      <th>p_budget_clean</th>\n",
       "      <th>net_profit</th>\n",
       "      <th>return_on_investment</th>\n",
       "    </tr>\n",
       "  </thead>\n",
       "  <tbody>\n",
       "    <tr>\n",
       "      <th>100</th>\n",
       "      <td>1</td>\n",
       "      <td>May 29, 2009</td>\n",
       "      <td>Up</td>\n",
       "      <td>$175,000,000</td>\n",
       "      <td>$293,004,164</td>\n",
       "      <td>$731,463,377</td>\n",
       "      <td>5</td>\n",
       "      <td>731463377</td>\n",
       "      <td>293004164</td>\n",
       "      <td>175000000</td>\n",
       "      <td>556463377</td>\n",
       "      <td>317.979073</td>\n",
       "    </tr>\n",
       "    <tr>\n",
       "      <th>82</th>\n",
       "      <td>83</td>\n",
       "      <td>Dec 9, 2005</td>\n",
       "      <td>The Chronicles of Narnia: The Lion, the Witch ...</td>\n",
       "      <td>$180,000,000</td>\n",
       "      <td>$291,710,957</td>\n",
       "      <td>$720,539,572</td>\n",
       "      <td>12</td>\n",
       "      <td>720539572</td>\n",
       "      <td>291710957</td>\n",
       "      <td>180000000</td>\n",
       "      <td>540539572</td>\n",
       "      <td>300.299762</td>\n",
       "    </tr>\n",
       "    <tr>\n",
       "      <th>115</th>\n",
       "      <td>16</td>\n",
       "      <td>Apr 4, 2014</td>\n",
       "      <td>Captain America: The Winter Soldier</td>\n",
       "      <td>$170,000,000</td>\n",
       "      <td>$259,746,958</td>\n",
       "      <td>$714,401,889</td>\n",
       "      <td>4</td>\n",
       "      <td>714401889</td>\n",
       "      <td>259746958</td>\n",
       "      <td>170000000</td>\n",
       "      <td>544401889</td>\n",
       "      <td>320.236405</td>\n",
       "    </tr>\n",
       "    <tr>\n",
       "      <th>116</th>\n",
       "      <td>17</td>\n",
       "      <td>Jul 11, 2014</td>\n",
       "      <td>Dawn of the Planet of the Apes</td>\n",
       "      <td>$170,000,000</td>\n",
       "      <td>$208,545,589</td>\n",
       "      <td>$710,644,566</td>\n",
       "      <td>7</td>\n",
       "      <td>710644566</td>\n",
       "      <td>208545589</td>\n",
       "      <td>170000000</td>\n",
       "      <td>540644566</td>\n",
       "      <td>318.026215</td>\n",
       "    </tr>\n",
       "    <tr>\n",
       "      <th>55</th>\n",
       "      <td>56</td>\n",
       "      <td>May 2, 2014</td>\n",
       "      <td>The Amazing Spider-Man 2</td>\n",
       "      <td>$200,000,000</td>\n",
       "      <td>$202,853,933</td>\n",
       "      <td>$708,996,336</td>\n",
       "      <td>5</td>\n",
       "      <td>708996336</td>\n",
       "      <td>202853933</td>\n",
       "      <td>200000000</td>\n",
       "      <td>508996336</td>\n",
       "      <td>254.498168</td>\n",
       "    </tr>\n",
       "    <tr>\n",
       "      <th>...</th>\n",
       "      <td>...</td>\n",
       "      <td>...</td>\n",
       "      <td>...</td>\n",
       "      <td>...</td>\n",
       "      <td>...</td>\n",
       "      <td>...</td>\n",
       "      <td>...</td>\n",
       "      <td>...</td>\n",
       "      <td>...</td>\n",
       "      <td>...</td>\n",
       "      <td>...</td>\n",
       "      <td>...</td>\n",
       "    </tr>\n",
       "    <tr>\n",
       "      <th>3758</th>\n",
       "      <td>59</td>\n",
       "      <td>Dec 31, 2013</td>\n",
       "      <td>Re-Kill</td>\n",
       "      <td>$9,500,000</td>\n",
       "      <td>$0</td>\n",
       "      <td>$0</td>\n",
       "      <td>12</td>\n",
       "      <td>0</td>\n",
       "      <td>0</td>\n",
       "      <td>9500000</td>\n",
       "      <td>-9500000</td>\n",
       "      <td>-100.000000</td>\n",
       "    </tr>\n",
       "    <tr>\n",
       "      <th>5373</th>\n",
       "      <td>74</td>\n",
       "      <td>Sep 8, 2006</td>\n",
       "      <td>Iraq for Sale: The War Profiteers</td>\n",
       "      <td>$775,000</td>\n",
       "      <td>$0</td>\n",
       "      <td>$0</td>\n",
       "      <td>9</td>\n",
       "      <td>0</td>\n",
       "      <td>0</td>\n",
       "      <td>775000</td>\n",
       "      <td>-775000</td>\n",
       "      <td>-100.000000</td>\n",
       "    </tr>\n",
       "    <tr>\n",
       "      <th>4883</th>\n",
       "      <td>84</td>\n",
       "      <td>Dec 31, 2010</td>\n",
       "      <td>Lies in Plain Sight</td>\n",
       "      <td>$2,100,000</td>\n",
       "      <td>$0</td>\n",
       "      <td>$0</td>\n",
       "      <td>12</td>\n",
       "      <td>0</td>\n",
       "      <td>0</td>\n",
       "      <td>2100000</td>\n",
       "      <td>-2100000</td>\n",
       "      <td>-100.000000</td>\n",
       "    </tr>\n",
       "    <tr>\n",
       "      <th>5370</th>\n",
       "      <td>71</td>\n",
       "      <td>Jan 9, 2015</td>\n",
       "      <td>Vessel</td>\n",
       "      <td>$800,000</td>\n",
       "      <td>$0</td>\n",
       "      <td>$0</td>\n",
       "      <td>1</td>\n",
       "      <td>0</td>\n",
       "      <td>0</td>\n",
       "      <td>800000</td>\n",
       "      <td>-800000</td>\n",
       "      <td>-100.000000</td>\n",
       "    </tr>\n",
       "    <tr>\n",
       "      <th>2716</th>\n",
       "      <td>17</td>\n",
       "      <td>Dec 13, 2018</td>\n",
       "      <td>Bird Box</td>\n",
       "      <td>$19,800,000</td>\n",
       "      <td>$0</td>\n",
       "      <td>$0</td>\n",
       "      <td>12</td>\n",
       "      <td>0</td>\n",
       "      <td>0</td>\n",
       "      <td>19800000</td>\n",
       "      <td>-19800000</td>\n",
       "      <td>-100.000000</td>\n",
       "    </tr>\n",
       "  </tbody>\n",
       "</table>\n",
       "<p>5681 rows × 12 columns</p>\n",
       "</div>"
      ],
      "text/plain": [
       "      id  release_date                                              movie  \\\n",
       "100    1  May 29, 2009                                                 Up   \n",
       "82    83   Dec 9, 2005  The Chronicles of Narnia: The Lion, the Witch ...   \n",
       "115   16   Apr 4, 2014                Captain America: The Winter Soldier   \n",
       "116   17  Jul 11, 2014                     Dawn of the Planet of the Apes   \n",
       "55    56   May 2, 2014                           The Amazing Spider-Man 2   \n",
       "...   ..           ...                                                ...   \n",
       "3758  59  Dec 31, 2013                                            Re-Kill   \n",
       "5373  74   Sep 8, 2006                  Iraq for Sale: The War Profiteers   \n",
       "4883  84  Dec 31, 2010                                Lies in Plain Sight   \n",
       "5370  71   Jan 9, 2015                                             Vessel   \n",
       "2716  17  Dec 13, 2018                                           Bird Box   \n",
       "\n",
       "     production_budget domestic_gross worldwide_gross  release_month  \\\n",
       "100       $175,000,000   $293,004,164    $731,463,377              5   \n",
       "82        $180,000,000   $291,710,957    $720,539,572             12   \n",
       "115       $170,000,000   $259,746,958    $714,401,889              4   \n",
       "116       $170,000,000   $208,545,589    $710,644,566              7   \n",
       "55        $200,000,000   $202,853,933    $708,996,336              5   \n",
       "...                ...            ...             ...            ...   \n",
       "3758        $9,500,000             $0              $0             12   \n",
       "5373          $775,000             $0              $0              9   \n",
       "4883        $2,100,000             $0              $0             12   \n",
       "5370          $800,000             $0              $0              1   \n",
       "2716       $19,800,000             $0              $0             12   \n",
       "\n",
       "      gross_clean  dom_gross_clean  p_budget_clean  net_profit  \\\n",
       "100     731463377        293004164       175000000   556463377   \n",
       "82      720539572        291710957       180000000   540539572   \n",
       "115     714401889        259746958       170000000   544401889   \n",
       "116     710644566        208545589       170000000   540644566   \n",
       "55      708996336        202853933       200000000   508996336   \n",
       "...           ...              ...             ...         ...   \n",
       "3758            0                0         9500000    -9500000   \n",
       "5373            0                0          775000     -775000   \n",
       "4883            0                0         2100000    -2100000   \n",
       "5370            0                0          800000     -800000   \n",
       "2716            0                0        19800000   -19800000   \n",
       "\n",
       "      return_on_investment  \n",
       "100             317.979073  \n",
       "82              300.299762  \n",
       "115             320.236405  \n",
       "116             318.026215  \n",
       "55              254.498168  \n",
       "...                    ...  \n",
       "3758           -100.000000  \n",
       "5373           -100.000000  \n",
       "4883           -100.000000  \n",
       "5370           -100.000000  \n",
       "2716           -100.000000  \n",
       "\n",
       "[5681 rows x 12 columns]"
      ]
     },
     "execution_count": 69,
     "metadata": {},
     "output_type": "execute_result"
    }
   ],
   "source": [
    "#Sort the rest of the movies based on domestic gross revenue \n",
    "other_5682 = tn.sort_values(by='gross_clean', ascending=False)[100:]\n",
    "other_5682"
   ]
  },
  {
   "cell_type": "code",
   "execution_count": 70,
   "metadata": {},
   "outputs": [
    {
     "data": {
      "text/plain": [
       "1     0.060024\n",
       "2     0.067808\n",
       "3     0.081301\n",
       "4     0.078533\n",
       "5     0.070403\n",
       "6     0.082685\n",
       "7     0.076111\n",
       "8     0.085798\n",
       "9     0.085279\n",
       "10    0.099118\n",
       "11    0.084069\n",
       "12    0.128870\n",
       "Name: release_month, dtype: float64"
      ]
     },
     "execution_count": 70,
     "metadata": {},
     "output_type": "execute_result"
    }
   ],
   "source": [
    "#Get the value counts of how many of the rest of the movies came out each month, as a percentage\n",
    "other_5682_mc = tn['release_month'].value_counts(normalize = True).sort_index()\n",
    "other_5682_mc"
   ]
  },
  {
   "cell_type": "code",
   "execution_count": 71,
   "metadata": {},
   "outputs": [
    {
     "data": {
      "text/plain": [
       "array([ 1,  2,  3,  4,  5,  6,  7,  8,  9, 10, 11, 12])"
      ]
     },
     "execution_count": 71,
     "metadata": {},
     "output_type": "execute_result"
    }
   ],
   "source": [
    "#setting the labels for my x-axis \n",
    "x_axis = other_5682_mc.index.to_numpy()\n",
    "x_axis"
   ]
  },
  {
   "cell_type": "code",
   "execution_count": 72,
   "metadata": {
    "scrolled": true
   },
   "outputs": [
    {
     "data": {
      "image/png": "[encoded data removed]",
      "text/plain": [
       "<Figure size 432x288 with 1 Axes>"
      ]
     },
     "metadata": {
      "needs_background": "light"
     },
     "output_type": "display_data"
    }
   ],
   "source": [
    "fig, ax = plt.subplots()\n",
    "ax.bar(x_axis -0.2, other_5682_mc.values, width = .4, color = \"green\")\n",
    "ax.bar(x_axis +0.2, tn_top100_mc, width = .4, color = \"blue\")\n",
    "ax.set_xlabel('Months')\n",
    "ax.set_ylabel('Frequency')\n",
    "ax.set_title('Frequency of Movies Per Month')\n",
    "ax.legend([\"Other 5683 Movies\", \"Top 100 Movies\"], loc=0);"
   ]
  },
  {
   "cell_type": "markdown",
   "metadata": {},
   "source": [
    "A much higher percentage of the top 100 gross movies premeried in months 5, 6, 7, 11 and 12\n",
    "The movies not in the top 100 are much more evenly distributed throughout the year. "
   ]
  },
  {
   "cell_type": "markdown",
   "metadata": {},
   "source": [
    "## Production Budget vs. Net Profit (TN)"
   ]
  },
  {
   "cell_type": "code",
   "execution_count": 73,
   "metadata": {},
   "outputs": [
    {
     "data": {
      "text/plain": [
       "0       425000000\n",
       "1       410600000\n",
       "2       350000000\n",
       "3       330600000\n",
       "4       317000000\n",
       "          ...    \n",
       "5777         7000\n",
       "5778         6000\n",
       "5779         5000\n",
       "5780         1400\n",
       "5781         1100\n",
       "Name: p_budget_clean, Length: 5781, dtype: int64"
      ]
     },
     "execution_count": 73,
     "metadata": {},
     "output_type": "execute_result"
    }
   ],
   "source": [
    "#change production budget from an object to an int\n",
    "tn['p_budget_clean'] = tn['production_budget'].str.replace('$','').str.replace(',','')\n",
    "tn['p_budget_clean'] = pd.to_numeric(tn['p_budget_clean'])\n",
    "tn['p_budget_clean']"
   ]
  },
  {
   "cell_type": "code",
   "execution_count": 74,
   "metadata": {},
   "outputs": [
    {
     "data": {
      "text/plain": [
       "0       2351345279\n",
       "1        635063875\n",
       "2       -200237650\n",
       "3       1072413963\n",
       "4        999721747\n",
       "           ...    \n",
       "5777         -7000\n",
       "5778        234495\n",
       "5779         -3662\n",
       "5780         -1400\n",
       "5781        179941\n",
       "Name: net_profit, Length: 5781, dtype: int64"
      ]
     },
     "execution_count": 74,
     "metadata": {},
     "output_type": "execute_result"
    }
   ],
   "source": [
    "#calculate net profit\n",
    "tn['net_profit'] = tn['gross_clean'] - tn['p_budget_clean']\n",
    "tn['net_profit']"
   ]
  },
  {
   "cell_type": "code",
   "execution_count": 75,
   "metadata": {
    "scrolled": true
   },
   "outputs": [
    {
     "data": {
      "image/png": "[encoded data removed]",
      "text/plain": [
       "<Figure size 720x288 with 1 Axes>"
      ]
     },
     "metadata": {
      "needs_background": "light"
     },
     "output_type": "display_data"
    }
   ],
   "source": [
    "#graph production budget vs net profit\n",
    "fig, ax = plt.subplots (figsize = (10, 4))\n",
    "ax.scatter(tn['p_budget_clean'], tn['net_profit'], alpha = 0.3)\n",
    "\n",
    "plt.ticklabel_format(style='plain', axis = 'x')\n",
    "plt.ticklabel_format(style='plain', axis = 'y')\n",
    "\n",
    "ax.set_title('Production Budget vs. Net Profit')\n",
    "ax.set_xlabel('Production Budget')\n",
    "ax.set_ylabel('Net Profit')\n",
    "\n",
    "ax.xaxis.set_major_formatter('${x:,.0f}')\n",
    "ax.yaxis.set_major_formatter('${x:,.0f}')\n",
    "\n",
    "x=tn['p_budget_clean']\n",
    "y=tn['net_profit']\n",
    "m, b = np.polyfit(x,y,1)\n",
    "plt.plot(x, m*x + b, c=\"red\")\n",
    "plt.legend(['Return On Investment']);"
   ]
  }
 ],
 "metadata": {
  "kernelspec": {
   "display_name": "Python 3",
   "language": "python",
   "name": "python3"
  },
  "language_info": {
   "codemirror_mode": {
    "name": "ipython",
    "version": 3
   },
   "file_extension": ".py",
   "mimetype": "text/x-python",
   "name": "python",
   "nbconvert_exporter": "python",
   "pygments_lexer": "ipython3",
   "version": "3.8.5"
  }
 },
 "nbformat": 4,
 "nbformat_minor": 4
}
